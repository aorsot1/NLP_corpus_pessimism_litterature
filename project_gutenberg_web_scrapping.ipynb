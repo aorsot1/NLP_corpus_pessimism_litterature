{
 "cells": [
  {
   "cell_type": "markdown",
   "metadata": {},
   "source": [
    "# Project Gutenberg Web Scrapping\n",
    "In this notebook, we will web scraping from Project Gutenberg & Google to obtain the content and other informations of political philosophy texts. Those would be the building blocks of a database for Natural Language Processing (NLP) purposes open-source for anyone interested in the intersection between data science and political thought. \n",
    "\n",
    "\n",
    "## Table of Contents\n",
    "1. Environment set-up\n",
    "2. Project Gutenberg: Text Data Retrieval \n",
    "3. Google Search API: Date Retrieval"
   ]
  },
  {
   "cell_type": "markdown",
   "metadata": {},
   "source": [
    "### 1. Environment set-up"
   ]
  },
  {
   "cell_type": "code",
   "execution_count": 9,
   "metadata": {
    "_cell_guid": "758cd899-bfd5-4be6-a65a-666bcf8f7a63",
    "_uuid": "d2302def-fe6a-4a69-9656-1cddb7559487",
    "collapsed": false,
    "jupyter": {
     "outputs_hidden": false
    },
    "tags": []
   },
   "outputs": [],
   "source": [
    "# importing libraries\n",
    "from urllib import request\n",
    "from bs4 import BeautifulSoup\n",
    "import requests\n",
    "import json\n",
    "import pandas as pd\n",
    "import jellyfish\n",
    "import re"
   ]
  },
  {
   "cell_type": "code",
   "execution_count": 100,
   "metadata": {},
   "outputs": [],
   "source": [
    "url = 'http://gutendex.com/books?search=hume,%20david'\n",
    "html = request.urlopen(url).read()\n",
    "soup = BeautifulSoup(html,'html.parser')\n",
    "site_json = json.loads(soup.text)\n",
    "books = site_json['results']"
   ]
  },
  {
   "cell_type": "code",
   "execution_count": 101,
   "metadata": {},
   "outputs": [],
   "source": [
    "books_formatted = []\n",
    "for book in books:\n",
    "    author_details = book['authors'][0]\n",
    "    \n",
    "    # Avoid any books written by someone else\n",
    "    name = author_details['name'].lower()\n",
    "    if jellyfish.jaro_distance(name, 'hume, david') < 0.8:\n",
    "        continue\n",
    "    text_urls = book['formats']\n",
    "    res = [val for key, val in text_urls.items() if 'text/plain' in key]\n",
    "    topics = book['subjects']+book['bookshelves']\n",
    "    lang = book['languages'][0]\n",
    "\n",
    "    book.update(author_details)\n",
    "    book.update({'text_url':res[0]})\n",
    "    book.update({'topics':topics})\n",
    "    book.update({'language':lang})\n",
    "\n",
    "    keys_to_remove = ['id', 'authors','translators', 'subjects',\n",
    "                  'bookshelves', 'languages','copyright', \n",
    "                  'media_type','formats','download_count']\n",
    "    for key in keys_to_remove:\n",
    "        book.pop(key)\n",
    "    books_formatted.append(book)"
   ]
  },
  {
   "cell_type": "code",
   "execution_count": 103,
   "metadata": {},
   "outputs": [],
   "source": [
    "hume_texts = pd.json_normalize(books_formatted)"
   ]
  },
  {
   "cell_type": "markdown",
   "metadata": {},
   "source": [
    "### 3. Project Gutenberg: Text Data Retrieval "
   ]
  },
  {
   "cell_type": "code",
   "execution_count": 107,
   "metadata": {},
   "outputs": [
    {
     "name": "stderr",
     "output_type": "stream",
     "text": [
      "Some characters could not be decoded, and were replaced with REPLACEMENT CHARACTER.\n",
      "Some characters could not be decoded, and were replaced with REPLACEMENT CHARACTER.\n"
     ]
    }
   ],
   "source": [
    "# Putting everything into a Class with different methods\n",
    "class GutenbergTextRetrieveal():\n",
    "    ''' \n",
    "    A class extracting the details and content of texts \n",
    "    pulled from Project Gutenberg\n",
    "    '''\n",
    "    def __init__(self, links):\n",
    "        self.links = links\n",
    "    \n",
    "    def text_scraper(self):\n",
    "        self.texts = []\n",
    "\n",
    "        content_beg = 'START OF THIS PROJECT GUTENBERG EBOOK'\n",
    "        content_end = 'End of the Project Gutenberg EBook'\n",
    "        for link in self.links:\n",
    "            # Details on the text\n",
    "            req = requests.get(link)\n",
    "            soup = BeautifulSoup(req.content, \"html.parser\")\n",
    "            raw_text = soup.text\n",
    "            \n",
    "            idx0 = raw_text.find(content_beg)\n",
    "            idx1 = raw_text.find(content_end)\n",
    "            text_body = raw_text[idx0:idx1].replace(content_beg, '')\n",
    "            self.texts.append(text_body)\n",
    "        return self.texts\n",
    "\n",
    "# Base URL\n",
    "links = list(hume_texts['text_url'])\n",
    "\n",
    "\n",
    "## Text decoding UTF-8 & ASCII characters\n",
    "ret = GutenbergTextRetrieveal(links)\n",
    "texts = ret.text_scraper()\n",
    "hume_texts['text_content'] = texts\n",
    "hume_texts"
   ]
  },
  {
   "cell_type": "code",
   "execution_count": 22,
   "metadata": {},
   "outputs": [],
   "source": [
    "# Think about the inclusion of paragraphs \n",
    "# req = requests.get('https://www.gutenberg.org/files/4320/4320-h/4320-h.htm')\n",
    "# soup = BeautifulSoup(req.content, \"html.parser\")\n",
    "# paragraph=soup.find_all(\"p\")\n",
    "# for para in paragraph:\n",
    "#     print(para.text)"
   ]
  },
  {
   "cell_type": "markdown",
   "metadata": {},
   "source": [
    "### 4. Google Search API: Date Retrieval"
   ]
  }
 ],
 "metadata": {
  "kernelspec": {
   "display_name": "Python 3 (ipykernel)",
   "language": "python",
   "name": "python3"
  },
  "language_info": {
   "codemirror_mode": {
    "name": "ipython",
    "version": 3
   },
   "file_extension": ".py",
   "mimetype": "text/x-python",
   "name": "python",
   "nbconvert_exporter": "python",
   "pygments_lexer": "ipython3",
   "version": "3.7.11"
  }
 },
 "nbformat": 4,
 "nbformat_minor": 4
}
