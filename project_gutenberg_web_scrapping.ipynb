{
 "cells": [
  {
   "cell_type": "markdown",
   "metadata": {},
   "source": [
    "# Project Gutenberg Web Scrapping\n",
    "In this notebook, we will web scraping from Project Gutenberg & Google to obtain the content and other informations of political philosophy texts. Those would be the building blocks of a database for Natural Language Processing (NLP) purposes open-source for anyone interested in the intersection between data science and political thought. \n",
    "\n",
    "\n",
    "## Table of Contents\n",
    "1. Environment set-up\n",
    "2. Project Gutenberg: Text Data Retrieval \n",
    "3. Google Search API: Date Retrieval"
   ]
  },
  {
   "cell_type": "markdown",
   "metadata": {},
   "source": [
    "### 1. Environment set-up"
   ]
  },
  {
   "cell_type": "code",
   "execution_count": 1,
   "metadata": {
    "_cell_guid": "758cd899-bfd5-4be6-a65a-666bcf8f7a63",
    "_uuid": "d2302def-fe6a-4a69-9656-1cddb7559487",
    "collapsed": false,
    "jupyter": {
     "outputs_hidden": false
    },
    "tags": []
   },
   "outputs": [],
   "source": [
    "# importing libraries\n",
    "from bs4 import BeautifulSoup\n",
    "import requests\n",
    "import pandas as pd\n",
    "import re"
   ]
  },
  {
   "cell_type": "markdown",
   "metadata": {},
   "source": [
    "### 3. Project Gutenberg: Text Data Retrieval "
   ]
  },
  {
   "cell_type": "code",
   "execution_count": 18,
   "metadata": {},
   "outputs": [
    {
     "data": {
      "text/html": [
       "<div>\n",
       "<style scoped>\n",
       "    .dataframe tbody tr th:only-of-type {\n",
       "        vertical-align: middle;\n",
       "    }\n",
       "\n",
       "    .dataframe tbody tr th {\n",
       "        vertical-align: top;\n",
       "    }\n",
       "\n",
       "    .dataframe thead th {\n",
       "        text-align: right;\n",
       "    }\n",
       "</style>\n",
       "<table border=\"1\" class=\"dataframe\">\n",
       "  <thead>\n",
       "    <tr style=\"text-align: right;\">\n",
       "      <th></th>\n",
       "      <th>title</th>\n",
       "      <th>author</th>\n",
       "      <th>language</th>\n",
       "      <th>text</th>\n",
       "    </tr>\n",
       "  </thead>\n",
       "  <tbody>\n",
       "    <tr>\n",
       "      <th>0</th>\n",
       "      <td>An Enquiry Concerning the Principles of Morals</td>\n",
       "      <td>David Hume</td>\n",
       "      <td>English</td>\n",
       "      <td>PRINCIPLES OF MORALS ***\\r\\n\\r\\n\\r\\n\\r\\n\\r\\nP...</td>\n",
       "    </tr>\n",
       "  </tbody>\n",
       "</table>\n",
       "</div>"
      ],
      "text/plain": [
       "                                            title      author language  \\\n",
       "0  An Enquiry Concerning the Principles of Morals  David Hume  English   \n",
       "\n",
       "                                                text  \n",
       "0   PRINCIPLES OF MORALS ***\\r\\n\\r\\n\\r\\n\\r\\n\\r\\nP...  "
      ]
     },
     "execution_count": 18,
     "metadata": {},
     "output_type": "execute_result"
    }
   ],
   "source": [
    "# Putting everything into a Class with different methods\n",
    "class GutenbergTextRetrieveal():\n",
    "    ''' \n",
    "    A class extracting the details and content of texts \n",
    "    pulled from Project Gutenberg\n",
    "    '''\n",
    "    def __init__(self, base_url, links):\n",
    "        self.links = links\n",
    "        self.base_url = base_url\n",
    "    \n",
    "    def text_scraper(self):\n",
    "        # Lists hosting text data info\n",
    "        self.titles, self.authors, self.languages = [],[],[]\n",
    "        \n",
    "        # Lists hosting text content\n",
    "        self.texts = []\n",
    "        \n",
    "        \n",
    "        delims = ['\\r\\nTitle: ', '\\r\\n\\r\\nAuthor: ', \n",
    "                '\\r\\nRelease Date: ', '\\r\\nLanguage: ',\n",
    "                '\\r\\nCharacter set encoding: ']\n",
    "        content_beg = 'START OF THIS PROJECT GUTENBERG EBOOK'\n",
    "        content_end = 'End of the Project Gutenberg EBook'\n",
    "        for link in self.links:\n",
    "            # Details on the text\n",
    "            req = requests.get(self.base_url+link)\n",
    "            soup = BeautifulSoup(req.content, \"html.parser\")\n",
    "            raw_text = soup.text\n",
    "            \n",
    "            idx = []\n",
    "            for delim in delims:\n",
    "                idx.append(raw_text.find(delim))\n",
    "            \n",
    "            # Get book title\n",
    "            title = raw_text[idx[0]:idx[1]]\n",
    "            title = title.replace('Title: ', '').replace('\\r\\n', '')\n",
    "            self.titles.append(title)\n",
    "            \n",
    "            # Get book author\n",
    "            author = raw_text[idx[1]:idx[2]]\n",
    "            author = author.replace('Author: ', '').replace('\\r\\n', '')\n",
    "            self.authors.append(author)\n",
    "            \n",
    "            # Get book language\n",
    "            lang = raw_text[idx[3]:idx[4]]\n",
    "            lang = lang.replace('Language: ', '').replace('\\r\\n', '')\n",
    "            self.languages.append(lang)\n",
    "\n",
    "            # Get the body of the text\n",
    "            \n",
    "            idx0 = raw_text.find(content_beg)\n",
    "            idx1 = raw_text.find(content_end)\n",
    "            text_body = raw_text[idx0:idx1].replace(content_beg, '')\n",
    "            self.texts.append(text_body)\n",
    "\n",
    "    def data_formatting(self):\n",
    "        # Creating the dictionary for the dataframe structure\n",
    "        books_dict = {'title': self.titles,\n",
    "                      'author': self.authors,\n",
    "                      'language': self.languages,\n",
    "                      'text': self.texts}\n",
    "\n",
    "        # Creating the datafame\n",
    "        df = pd.DataFrame.from_dict(data=books_dict, orient='columns')\n",
    "\n",
    "        return df\n",
    "\n",
    "# Base URL\n",
    "base_url = 'https://www.gutenberg.org/files/'\n",
    "links = ['4320/4320-h/4320-h.htm']\n",
    "ret = GutenbergTextRetrieveal(base_url, links)\n",
    "ret.text_scraper()\n",
    "ret.data_formatting()"
   ]
  },
  {
   "cell_type": "code",
   "execution_count": 22,
   "metadata": {},
   "outputs": [],
   "source": [
    "# Think about the inclusion of paragraphs \n",
    "# req = requests.get('https://www.gutenberg.org/files/4320/4320-h/4320-h.htm')\n",
    "# soup = BeautifulSoup(req.content, \"html.parser\")\n",
    "# paragraph=soup.find_all(\"p\")\n",
    "# for para in paragraph:\n",
    "#     print(para.text)"
   ]
  },
  {
   "cell_type": "markdown",
   "metadata": {},
   "source": [
    "### 4. Google Search API: Date Retrieval"
   ]
  }
 ],
 "metadata": {
  "kernelspec": {
   "display_name": "Python 3 (ipykernel)",
   "language": "python",
   "name": "python3"
  },
  "language_info": {
   "codemirror_mode": {
    "name": "ipython",
    "version": 3
   },
   "file_extension": ".py",
   "mimetype": "text/x-python",
   "name": "python",
   "nbconvert_exporter": "python",
   "pygments_lexer": "ipython3",
   "version": "3.7.11"
  }
 },
 "nbformat": 4,
 "nbformat_minor": 4
}
