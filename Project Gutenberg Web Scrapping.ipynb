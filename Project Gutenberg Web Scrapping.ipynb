{
 "cells": [
  {
   "cell_type": "markdown",
   "metadata": {},
   "source": [
    "# Project Gutenberg Web Scrapping\n",
    "In this notebook, we will web scraping from Project Gutenberg & Google to obtain the content and other informations of political philosophy texts. Those would be the building blocks of a database for Natural Language Processing (NLP) purposes open-source for anyone interested in the intersection between data science and political thought. \n",
    "\n",
    "\n",
    "## Table of Contents\n",
    "1. Environment set-up\n",
    "2. Variable Definition\n",
    "3. Project Gutenberg: Text Data Retrieval \n",
    "4. Google Search API: Date Retrieval"
   ]
  },
  {
   "cell_type": "markdown",
   "metadata": {},
   "source": [
    "### 1. Environment set-up"
   ]
  },
  {
   "cell_type": "code",
   "execution_count": 30,
   "metadata": {
    "_cell_guid": "758cd899-bfd5-4be6-a65a-666bcf8f7a63",
    "_uuid": "d2302def-fe6a-4a69-9656-1cddb7559487",
    "collapsed": false,
    "jupyter": {
     "outputs_hidden": false
    },
    "tags": []
   },
   "outputs": [],
   "source": [
    "# importing libraries\n",
    "from bs4 import BeautifulSoup\n",
    "import requests\n",
    "import pandas as pd\n",
    "import re"
   ]
  },
  {
   "cell_type": "markdown",
   "metadata": {},
   "source": [
    "### 2. Variable Definition"
   ]
  },
  {
   "cell_type": "code",
   "execution_count": 31,
   "metadata": {},
   "outputs": [],
   "source": [
    "# Base URL\n",
    "base_url = 'https://www.gutenberg.org/files'"
   ]
  },
  {
   "cell_type": "code",
   "execution_count": 32,
   "metadata": {},
   "outputs": [],
   "source": [
    "# Isolating the actual text from the Project Gutenberg license statements\n",
    "text_beg = 'START OF THIS PROJECT GUTENBERG EBOOK'\n",
    "text_end = 'End of the Project Gutenberg EBook'\n",
    "\n",
    "# Delimeters to extract info from text\n",
    "title_del = '\\r\\nTitle: '\n",
    "author_del0 = '\\r\\n\\r\\nAuthor: '\n",
    "author_del1 = '\\r\\n\\r\\nRelease Date: '\n",
    "lang_del0 = '\\r\\n\\r\\nLanguage: '\n",
    "lang_del1 = '\\r\\n\\r\\nCharacter set encoding: '"
   ]
  },
  {
   "cell_type": "markdown",
   "metadata": {},
   "source": [
    "### 3. Project Gutenberg: Text Data Retrieval "
   ]
  },
  {
   "cell_type": "code",
   "execution_count": 51,
   "metadata": {},
   "outputs": [
    {
     "data": {
      "text/html": [
       "<div>\n",
       "<style scoped>\n",
       "    .dataframe tbody tr th:only-of-type {\n",
       "        vertical-align: middle;\n",
       "    }\n",
       "\n",
       "    .dataframe tbody tr th {\n",
       "        vertical-align: top;\n",
       "    }\n",
       "\n",
       "    .dataframe thead th {\n",
       "        text-align: right;\n",
       "    }\n",
       "</style>\n",
       "<table border=\"1\" class=\"dataframe\">\n",
       "  <thead>\n",
       "    <tr style=\"text-align: right;\">\n",
       "      <th></th>\n",
       "      <th>title</th>\n",
       "      <th>author</th>\n",
       "      <th>language</th>\n",
       "      <th>text</th>\n",
       "    </tr>\n",
       "  </thead>\n",
       "  <tbody>\n",
       "    <tr>\n",
       "      <th>0</th>\n",
       "      <td>An Enquiry Concerning the Principles of Morals</td>\n",
       "      <td>David Hume</td>\n",
       "      <td>English</td>\n",
       "      <td>START OF THIS PROJECT GUTENBERG EBOOK PRINCIPL...</td>\n",
       "    </tr>\n",
       "  </tbody>\n",
       "</table>\n",
       "</div>"
      ],
      "text/plain": [
       "                                            title      author language  \\\n",
       "0  An Enquiry Concerning the Principles of Morals  David Hume  English   \n",
       "\n",
       "                                                text  \n",
       "0  START OF THIS PROJECT GUTENBERG EBOOK PRINCIPL...  "
      ]
     },
     "execution_count": 51,
     "metadata": {},
     "output_type": "execute_result"
    }
   ],
   "source": [
    "# Putting everything into a Class with different methods\n",
    "def text_retrieval(links):\n",
    "    # Lists hosting text data info\n",
    "    titles, authors, languages = [],[],[]\n",
    "    texts = []\n",
    "\n",
    "    # Looping through the links for data retrieval\n",
    "    for link in links:\n",
    "        #Send HTTP request\n",
    "        req = requests.get(base_url+link)\n",
    "        \n",
    "        # Get the raw text\n",
    "        raw_text = BeautifulSoup(html_content, \"lxml\").text\n",
    "        \n",
    "        # Get book title\n",
    "        delims = ['\\r\\nTitle: ', '\\r\\n\\r\\nAuthor: ', \n",
    "                '\\r\\nRelease Date: ', '\\r\\nLanguage: ',\n",
    "                '\\r\\nCharacter set encoding: ']\n",
    "        idx = []\n",
    "        for delim in delims:\n",
    "            idx.append(raw_text.find(delim))\n",
    "\n",
    "        title = raw_text[idx[0]:idx[1]]\n",
    "        title = title.replace('Title: ', '').replace('\\r\\n', '')\n",
    "        titles.append(title)\n",
    "        \n",
    "        author = raw_text[idx[1]:idx[2]]\n",
    "        author = author.replace('Author: ', '').replace('\\r\\n', '')\n",
    "        authors.append(author)\n",
    "        \n",
    "        lang = raw_text[idx[3]:idx[4]]\n",
    "        lang = lang.replace('Language: ', '').replace('\\r\\n', '')\n",
    "        languages.append(lang)\n",
    "        \n",
    "        # Get the body of the text\n",
    "        raw_text = BeautifulSoup(html_content, \"lxml\").text\n",
    "        text_idx0 = raw_text.find(text_beg)\n",
    "        text_idx1 = raw_text.find(text_end)\n",
    "        text_body = raw_text[text_idx0:text_idx1]\n",
    "        texts.append(text_body)\n",
    "\n",
    "    \n",
    "    # Creating the dictionary for the dataframe structure\n",
    "    books_dict = {'title': titles,\n",
    "                  'author': authors,\n",
    "                  'language': languages,\n",
    "                  'text': texts}\n",
    "\n",
    "    # Creating the datafame\n",
    "    df = pd.DataFrame.from_dict(data=books_dict, orient='columns')\n",
    "       \n",
    "    return df\n",
    "\n",
    "links = ['4320/4320-h/4320-h.htm']\n",
    "text_retrieval(links)"
   ]
  },
  {
   "cell_type": "markdown",
   "metadata": {},
   "source": [
    "### 4. Google Search API: Date Retrieval"
   ]
  }
 ],
 "metadata": {
  "kernelspec": {
   "display_name": "Python 3 (ipykernel)",
   "language": "python",
   "name": "python3"
  },
  "language_info": {
   "codemirror_mode": {
    "name": "ipython",
    "version": 3
   },
   "file_extension": ".py",
   "mimetype": "text/x-python",
   "name": "python",
   "nbconvert_exporter": "python",
   "pygments_lexer": "ipython3",
   "version": "3.7.11"
  }
 },
 "nbformat": 4,
 "nbformat_minor": 4
}
