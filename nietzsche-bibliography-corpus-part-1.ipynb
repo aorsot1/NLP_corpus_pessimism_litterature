{
 "cells": [
  {
   "cell_type": "code",
   "execution_count": 1,
   "metadata": {
    "_cell_guid": "758cd899-bfd5-4be6-a65a-666bcf8f7a63",
    "_uuid": "d2302def-fe6a-4a69-9656-1cddb7559487",
    "execution": {
     "iopub.execute_input": "2021-06-07T15:31:20.177822Z",
     "iopub.status.busy": "2021-06-07T15:31:20.177446Z",
     "iopub.status.idle": "2021-06-07T15:31:20.185926Z",
     "shell.execute_reply": "2021-06-07T15:31:20.184498Z",
     "shell.execute_reply.started": "2021-06-07T15:31:20.177789Z"
    },
    "jupyter": {
     "outputs_hidden": false
    }
   },
   "outputs": [
    {
     "name": "stderr",
     "output_type": "stream",
     "text": [
      "C:\\Users\\Akoua Orsot\\Anaconda3\\lib\\site-packages\\requests\\__init__.py:91: RequestsDependencyWarning: urllib3 (1.26.4) or chardet (3.0.4) doesn't match a supported version!\n",
      "  RequestsDependencyWarning)\n",
      "[nltk_data] Downloading package stopwords to C:\\Users\\Akoua\n",
      "[nltk_data]     Orsot\\AppData\\Roaming\\nltk_data...\n",
      "[nltk_data]   Package stopwords is already up-to-date!\n"
     ]
    }
   ],
   "source": [
    "import numpy as np\n",
    "import pandas as pd\n",
    "\n",
    "import math\n",
    "import os\n",
    "import re\n",
    "import string\n",
    "import random\n",
    "import urllib3.request\n",
    "import zipfile\n",
    "import requests\n",
    "\n",
    "import nltk\n",
    "nltk.download('stopwords')\n",
    "from nltk.corpus import stopwords\n",
    "from nltk.tokenize import RegexpTokenizer\n",
    "import matplotlib.pyplot as plt\n",
    "\n",
    "import warnings\n",
    "warnings.filterwarnings(\"ignore\")"
   ]
  },
  {
   "cell_type": "code",
   "execution_count": 2,
   "metadata": {},
   "outputs": [],
   "source": [
    "# Beyond Good and Evil\n",
    "beyond = requests.get('https://www.gutenberg.org/cache/epub/4363/pg4363.txt')\n",
    "beg = beyond.text.find('PREFACE')\n",
    "end = beyond.text.find('End of Project Gutenberg')\n",
    "book1 = beyond.text[beg:end]"
   ]
  },
  {
   "cell_type": "code",
   "execution_count": 3,
   "metadata": {},
   "outputs": [],
   "source": [
    "# Thus Spoke Zarathustra\n",
    "zara = requests.get('https://www.gutenberg.org/files/1998/1998-0.txt')\n",
    "beg = zara.text.find('THUS SPAKE ZARATHUSTRA.')\n",
    "end = zara.text.find('gloomy mountains.')\n",
    "book2 = zara.text[beg:end]+'gloomy mountains.'"
   ]
  },
  {
   "cell_type": "code",
   "execution_count": 4,
   "metadata": {},
   "outputs": [],
   "source": [
    "# On the genealogy of morals\n",
    "morals = requests.get('https://www.gutenberg.org/files/52319/52319-0.txt')\n",
    "beg = morals.text.find('PREFACE.')\n",
    "end = morals.text.find('does not betray us!')\n",
    "book3 = morals.text[beg:end]+'does not betray us!'"
   ]
  },
  {
   "cell_type": "code",
   "execution_count": 5,
   "metadata": {},
   "outputs": [],
   "source": [
    "# Ecce Homo\n",
    "ecce = requests.get('https://www.gutenberg.org/files/52190/52190-0.txt')\n",
    "beg = ecce.text.find('PREFACE\\r\\n\\r\\n\\r\\n1')\n",
    "end = ecce.text.find('End of Project Gutenberg')\n",
    "book4 = ecce.text[beg:end]"
   ]
  },
  {
   "cell_type": "code",
   "execution_count": 6,
   "metadata": {},
   "outputs": [],
   "source": [
    "# Will to Power Part 1\n",
    "will1 = requests.get('https://www.gutenberg.org/files/52914/52914-0.txt')\n",
    "beg = will1.text.find('PREFACE.\\r\\n\\r\\n\\r\\n1')\n",
    "end = will1.text.find('End of the Project Gutenberg')\n",
    "book5a = will1.text[beg:end]"
   ]
  },
  {
   "cell_type": "code",
   "execution_count": 7,
   "metadata": {},
   "outputs": [],
   "source": [
    "# Will to Power Part 1\n",
    "will2 = requests.get('https://www.gutenberg.org/files/52915/52915-0.txt')\n",
    "beg = will2.text.find('THIRD BOOK.')\n",
    "end = will2.text.find('End of the Project Gutenberg')\n",
    "book5b = will2.text[beg:end]"
   ]
  },
  {
   "cell_type": "code",
   "execution_count": 8,
   "metadata": {},
   "outputs": [],
   "source": [
    "book5 = book5a + book5b"
   ]
  },
  {
   "cell_type": "code",
   "execution_count": 9,
   "metadata": {},
   "outputs": [],
   "source": [
    "# The Antichrist\n",
    "anti = requests.get('https://www.gutenberg.org/cache/epub/19322/pg19322.txt')\n",
    "beg = anti.text.find('PREFACE\\r\\n\\r\\n\\r\\nThis')\n",
    "end = anti.text.find('End of the Project Gutenberg')\n",
    "book6 = anti.text[beg:end]"
   ]
  },
  {
   "cell_type": "code",
   "execution_count": 10,
   "metadata": {},
   "outputs": [],
   "source": [
    "# The Birth od Tragedy\n",
    "trag = requests.get('https://www.gutenberg.org/files/51356/51356-0.txt')\n",
    "beg = trag.text.find('AN ATTEMPT AT SELF-CRITICISM.')\n",
    "end = trag.text.find(\"TRANSLATOR\\'S NOTE.\\r\\n\\r\\n\\r\\nWhile\")\n",
    "book7 = trag.text[beg:end]"
   ]
  },
  {
   "cell_type": "code",
   "execution_count": 11,
   "metadata": {},
   "outputs": [],
   "source": [
    "# Human, All Too Human\n",
    "human = requests.get('https://www.gutenberg.org/cache/epub/38145/pg38145.txt')\n",
    "beg = human.text.find('PREFACE.')\n",
    "end = human.text.find(\"End of Project Gutenberg\")\n",
    "book8 = human.text[beg:end]"
   ]
  },
  {
   "cell_type": "code",
   "execution_count": 12,
   "metadata": {},
   "outputs": [],
   "source": [
    "# The Dawn of Day\n",
    "dawn = requests.get('https://www.gutenberg.org/files/39955/39955-0.txt')\n",
    "beg = dawn.text.find(\"AUTHORâ\\x80\\x99S PREFACE.\")\n",
    "end = dawn.text.find(\"FOOTNOTES\")\n",
    "book9 = dawn.text[beg:end]"
   ]
  },
  {
   "cell_type": "code",
   "execution_count": 13,
   "metadata": {},
   "outputs": [],
   "source": [
    "# Thoughts out of Season (Part I)\n",
    "thought1 = requests.get('https://www.gutenberg.org/cache/epub/5652/pg5652.txt')\n",
    "beg = thought1.text.find(\"DAVID STRAUSS,\")\n",
    "end = thought1.text.find(\"clarifier of the past.\")\n",
    "book10a = thought1.text[beg:end]+'clarifier of the past.'"
   ]
  },
  {
   "cell_type": "code",
   "execution_count": 14,
   "metadata": {},
   "outputs": [],
   "source": [
    "# Thoughts out of Season (Part II)\n",
    "thought2 = requests.get('https://www.gutenberg.org/cache/epub/38226/pg38226.txt')\n",
    "beg = thought2.text.find(\"THE USE AND ABUSE OF HISTORY.\")\n",
    "end = thought2.text.find(\"End of the Project Gutenberg\")\n",
    "book10b = thought2.text[beg:end]"
   ]
  },
  {
   "cell_type": "code",
   "execution_count": 15,
   "metadata": {},
   "outputs": [],
   "source": [
    "book10 = book10a +book10b"
   ]
  },
  {
   "cell_type": "code",
   "execution_count": 16,
   "metadata": {},
   "outputs": [],
   "source": [
    "# Homer and Classical Philology\n",
    "homer = requests.get('https://www.gutenberg.org/cache/epub/18188/pg18188.txt')\n",
    "beg = homer.text.find(\"HOMER AND CLASSICAL PHILOLOGY.\")\n",
    "end = homer.text.find(\"End of the Project Gutenberg EBook\")\n",
    "book11 = homer.text[beg:end]"
   ]
  },
  {
   "cell_type": "code",
   "execution_count": 17,
   "metadata": {},
   "outputs": [],
   "source": [
    "# We Philologists\n",
    "wephilo = requests.get('https://www.gutenberg.org/cache/epub/18267/pg18267.txt')\n",
    "beg = wephilo.text.find(\"I\\r\\n\\r\\n\")\n",
    "end = wephilo.text.find(\"FINIS.\")\n",
    "book12 = wephilo.text[beg:end]"
   ]
  },
  {
   "cell_type": "code",
   "execution_count": 18,
   "metadata": {},
   "outputs": [],
   "source": [
    "# The Case for Wagner\n",
    "wagner = requests.get('https://www.gutenberg.org/files/25012/25012-0.txt')\n",
    "beg = wagner.text.find(\"THE CASE OF WAGNER: A MUSICIAN\")\n",
    "end = wagner.text.find(\"\\r\\n\\r\\n\\r\\n\\r\\n\\r\\n\\r\\n\\r\\nFOOTNOTES\")\n",
    "book13 = wagner.text[beg:end]"
   ]
  },
  {
   "cell_type": "code",
   "execution_count": 19,
   "metadata": {},
   "outputs": [],
   "source": [
    "# On the future of our education\n",
    "future = requests.get('https://www.gutenberg.org/files/28146/28146-0.txt')\n",
    "beg = future.text.find(\"PREFACE.\")\n",
    "end = future.text.find(\"in common with me.--TR.\")\n",
    "book14 = future.text[beg:end]+\"in common with me.--TR.\""
   ]
  },
  {
   "cell_type": "code",
   "execution_count": 20,
   "metadata": {},
   "outputs": [],
   "source": [
    "# Early Greek Philosophy & Other Essays\n",
    "greek = requests.get('https://www.gutenberg.org/files/51548/51548-0.txt')\n",
    "beg = greek.text.find(\"THE GREEK STATE\")\n",
    "end = greek.text.find(\"THE END.\")\n",
    "book15 = greek.text[beg:end]+\"THE END.\""
   ]
  },
  {
   "cell_type": "code",
   "execution_count": 21,
   "metadata": {},
   "outputs": [],
   "source": [
    "# The Joyful Wisdom\n",
    "joy = requests.get('https://www.gutenberg.org/files/52124/52124-0.txt')\n",
    "beg = joy.text.find(\"PREFACE TO THE SECOND EDITION.\")\n",
    "end = joy.text.find(\"End of Project Gutenberg\")\n",
    "book16 = joy.text[beg:end]"
   ]
  },
  {
   "cell_type": "code",
   "execution_count": 22,
   "metadata": {},
   "outputs": [],
   "source": [
    "twilight = requests.get('https://www.gutenberg.org/files/52263/52263-0.txt')\n",
    "beg = twilight.text.find(\"PREFACE\\r\\n\\r\\n\\r\\nTo maintain\")\n",
    "end = twilight.text.find(\"III., 29.\")\n",
    "book17 = twilight.text[beg:end]"
   ]
  },
  {
   "cell_type": "code",
   "execution_count": 23,
   "metadata": {
    "execution": {
     "iopub.execute_input": "2021-06-07T15:31:25.065775Z",
     "iopub.status.busy": "2021-06-07T15:31:25.065471Z",
     "iopub.status.idle": "2021-06-07T15:31:25.083101Z",
     "shell.execute_reply": "2021-06-07T15:31:25.079082Z",
     "shell.execute_reply.started": "2021-06-07T15:31:25.065746Z"
    }
   },
   "outputs": [],
   "source": [
    "#Utitlity functions for removing ASCII characters, converting lower case, removing stop words, html and punctuation from description\n",
    "def _removeNonAscii(s):\n",
    "    return \"\".join(i for i in s if  ord(i)<128)\n",
    "\n",
    "def make_lower_case(text):\n",
    "    return text.lower()\n",
    "\n",
    "def remove_stop_words(text):\n",
    "    text = text.split()\n",
    "    stops = set(stopwords.words(\"english\"))\n",
    "    text = [w for w in text if not w in stops]\n",
    "    text = \" \".join(text)\n",
    "    return text\n",
    "\n",
    "def remove_html(text):\n",
    "    html_pattern = re.compile('<.*?>')\n",
    "    return html_pattern.sub(r'', text)\n",
    "\n",
    "def remove_punctuation(text):\n",
    "    tokenizer = RegexpTokenizer(r'\\w+')\n",
    "    text = tokenizer.tokenize(text)\n",
    "    text = \" \".join(text)\n",
    "    return text"
   ]
  },
  {
   "cell_type": "code",
   "execution_count": 24,
   "metadata": {},
   "outputs": [],
   "source": [
    "titles = ['Beyond Good and Evil','Thus Spake Zarathustra: A Book for All and None', \n",
    "         'Thoughts out of Season','The Dawn of Day',\n",
    "         'Homer and Classical Philology', \n",
    "         'We Philologists', 'The Antichrist',\n",
    "         'The Case of Wagner, Nietzsche Contra Wagner, and Selected Aphorisms.',\n",
    "         'On the Future of our Educational Institutions',\n",
    "         'Human, All Too Human: A Book for Free Spirits',\n",
    "         'The Birth of Tragedy; or, Hellenism and Pessimism',\n",
    "         'Early Greek Philosophy & Other Essays', 'The Genealogy of Morals',\n",
    "         'The Joyful Wisdom (\"La Gaya Scienza\")','Ecce Homo', \n",
    "         'The Twilight of the Idols; or, How to Philosophize with the Hammer',\n",
    "         'The Will to Power: An Attempted Transvaluation of All Values']\n",
    "\n",
    "publish_dates = [1886, 1885, 1909, 1881, \n",
    "                 1868, 1874, 1895, 1889,\n",
    "                 1910, 1878, 1872, 1909,\n",
    "                 1887, 1882, 1908, 1889,\n",
    "                 1901]\n",
    "texts = [book1,book2,book3,book4,book5,book6,\n",
    "        book7,book8,book9,book10,book11,book12,\n",
    "        book13,book14,book15,book16,book17]"
   ]
  },
  {
   "cell_type": "code",
   "execution_count": 25,
   "metadata": {
    "execution": {
     "iopub.execute_input": "2021-06-07T15:31:25.085983Z",
     "iopub.status.busy": "2021-06-07T15:31:25.085397Z",
     "iopub.status.idle": "2021-06-07T15:31:26.210438Z",
     "shell.execute_reply": "2021-06-07T15:31:26.209046Z",
     "shell.execute_reply.started": "2021-06-07T15:31:25.085926Z"
    }
   },
   "outputs": [],
   "source": [
    "books_dict = {'book_title': titles,\n",
    "              'publishing_date': publish_dates,\n",
    "              'text': texts}\n",
    "df = pd.DataFrame.from_dict(data=books_dict, orient='columns')\n",
    "df['text_clean'] = df['text'].astype(str)\n",
    "df['text_clean'] = df['text_clean'].apply(_removeNonAscii)\n",
    "df['text_clean'] = df['text_clean'].apply(func = make_lower_case)\n",
    "df['text_clean'] = df['text_clean'].apply(func = remove_stop_words)\n",
    "df['text_clean'] = df['text_clean'].apply(func=remove_punctuation)\n",
    "df['text_clean'] = df['text_clean'].apply(func=remove_html)"
   ]
  },
  {
   "cell_type": "code",
   "execution_count": 26,
   "metadata": {
    "execution": {
     "iopub.execute_input": "2021-06-07T15:32:40.823935Z",
     "iopub.status.busy": "2021-06-07T15:32:40.823459Z",
     "iopub.status.idle": "2021-06-07T15:32:41.218363Z",
     "shell.execute_reply": "2021-06-07T15:32:41.217173Z",
     "shell.execute_reply.started": "2021-06-07T15:32:40.823875Z"
    }
   },
   "outputs": [],
   "source": [
    "df.to_csv('Nietzsche_works_corpus.csv', header=True)"
   ]
  }
 ],
 "metadata": {
  "kernelspec": {
   "display_name": "Python 3",
   "language": "python",
   "name": "python3"
  },
  "language_info": {
   "codemirror_mode": {
    "name": "ipython",
    "version": 3
   },
   "file_extension": ".py",
   "mimetype": "text/x-python",
   "name": "python",
   "nbconvert_exporter": "python",
   "pygments_lexer": "ipython3",
   "version": "3.7.3"
  }
 },
 "nbformat": 4,
 "nbformat_minor": 4
}
