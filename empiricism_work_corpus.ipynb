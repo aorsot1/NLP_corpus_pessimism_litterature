{
 "cells": [
  {
   "cell_type": "code",
   "execution_count": 1,
   "metadata": {
    "_cell_guid": "758cd899-bfd5-4be6-a65a-666bcf8f7a63",
    "_uuid": "d2302def-fe6a-4a69-9656-1cddb7559487",
    "execution": {
     "iopub.execute_input": "2021-06-07T15:31:20.177822Z",
     "iopub.status.busy": "2021-06-07T15:31:20.177446Z",
     "iopub.status.idle": "2021-06-07T15:31:20.185926Z",
     "shell.execute_reply": "2021-06-07T15:31:20.184498Z",
     "shell.execute_reply.started": "2021-06-07T15:31:20.177789Z"
    },
    "jupyter": {
     "outputs_hidden": false
    }
   },
   "outputs": [
    {
     "name": "stderr",
     "output_type": "stream",
     "text": [
      "[nltk_data] Downloading package stopwords to C:\\Users\\Akoua\n",
      "[nltk_data]     Orsot\\AppData\\Roaming\\nltk_data...\n",
      "[nltk_data]   Package stopwords is already up-to-date!\n"
     ]
    }
   ],
   "source": [
    "import numpy as np\n",
    "import pandas as pd\n",
    "\n",
    "import math\n",
    "import os\n",
    "import re\n",
    "import string\n",
    "import random\n",
    "import urllib3.request\n",
    "import zipfile\n",
    "import requests\n",
    "\n",
    "import nltk\n",
    "nltk.download('stopwords')\n",
    "from nltk.corpus import stopwords\n",
    "from nltk.tokenize import RegexpTokenizer\n",
    "import matplotlib.pyplot as plt\n",
    "\n",
    "import warnings\n",
    "warnings.filterwarnings(\"ignore\")"
   ]
  },
  {
   "cell_type": "code",
   "execution_count": 2,
   "metadata": {},
   "outputs": [],
   "source": [
    "# Locke - essay into humane understanding vol 1\n",
    "ehu1 = requests.get('https://www.gutenberg.org/cache/epub/10615/pg10615.txt')\n",
    "beg = ehu1.text.find('TO THE RIGHT HONOURABLE THOMAS, ')\n",
    "end = ehu1.text.find('End of the Project Gutenberg EBook')\n",
    "book1 = ehu1.text[beg:end]"
   ]
  },
  {
   "cell_type": "code",
   "execution_count": 3,
   "metadata": {},
   "outputs": [],
   "source": [
    "# Locke - eassy humane vol 2\n",
    "ehu2 = requests.get('https://www.gutenberg.org/cache/epub/10616/pg10616.txt')\n",
    "beg = ehu2.text.find('OF WORDS OR LANGUAGE IN GENERAL.')\n",
    "end = ehu2.text.find('*** START: FULL LICENSE ***')\n",
    "book2 = ehu2.text[beg:end]"
   ]
  },
  {
   "cell_type": "code",
   "execution_count": 4,
   "metadata": {},
   "outputs": [],
   "source": [
    "# Hume - inquiry human\n",
    "ihu = requests.get('https://www.gutenberg.org/cache/epub/9662/pg9662.txt')\n",
    "beg = ihu.text.find('OF THE DIFFERENT SPECIES OF PHILOSOPHY.')\n",
    "end = ihu.text.find('End of the Project Gutenberg EBook of')\n",
    "book3 = ihu.text[beg:end]"
   ]
  },
  {
   "cell_type": "code",
   "execution_count": 5,
   "metadata": {},
   "outputs": [],
   "source": [
    "# Hume - treatise on nature\n",
    "thn = requests.get('https://www.gutenberg.org/files/4705/4705-0.txt')\n",
    "beg = thn.text.find('ADVERTISEMENT.')\n",
    "end = thn.text.find('*** END OF THE PROJECT GUTENBERG EBOOK')\n",
    "book4 = thn.text[beg:end]"
   ]
  },
  {
   "cell_type": "code",
   "execution_count": 6,
   "metadata": {},
   "outputs": [],
   "source": [
    "# An Enquiry Concerning the Principles of Morals\n",
    "ipm = requests.get('https://www.gutenberg.org/cache/epub/4320/pg4320.txt')\n",
    "beg = ipm.text.find(\"AUTHOR'S ADVERTISEMENT.\")\n",
    "end = ipm.text.find('End of the Project Gutenberg EBook of An')\n",
    "book5 = ipm.text[beg:end]"
   ]
  },
  {
   "cell_type": "code",
   "execution_count": 7,
   "metadata": {},
   "outputs": [],
   "source": [
    "# A Treatise Concerning the Principles of Human Knowledge\n",
    "tcp = requests.get('https://www.gutenberg.org/cache/epub/4723/pg4723.txt')\n",
    "beg = tcp.text.find('DEDICATION')\n",
    "end = tcp.text.find('End of the Project Gutenberg')\n",
    "book6 = tcp.text[beg:end]"
   ]
  },
  {
   "cell_type": "code",
   "execution_count": 8,
   "metadata": {},
   "outputs": [],
   "source": [
    "# An Essay Towards a New Theory of Vision\n",
    "etv = requests.get('https://www.gutenberg.org/cache/epub/4722/pg4722.txt')\n",
    "beg = etv.text.find('1. My design')\n",
    "end = etv.text.find('End of the Project Gutenberg EBook of ')\n",
    "book7 = etv.text[beg:end]"
   ]
  },
  {
   "cell_type": "code",
   "execution_count": 9,
   "metadata": {},
   "outputs": [],
   "source": [
    "titles = ['An Essay Concerning Humane Understanding, Volume I',\n",
    "          'An Essay Concerning Humane Understanding, Volume II',\n",
    "          'An Enquiry Concerning Human Understanding',\n",
    "          'A Treatise of Human Nature',\n",
    "          'An Enquiry Concerning the Principles of Morals',\n",
    "          'A Treatise Concerning the Principles of Human Knowledge',\n",
    "          'An Essay Towards a New Theory of Vision']\n",
    "authors = ['John Locke', 'John Locke', 'David Hume', 'David Hume', \n",
    "           'David Hume', 'George Berkeley', 'George Berkeley']\n",
    "publish_dates = [1689 , 1695, 1748, 1739, 1751, 1710, 1709]\n",
    "\n",
    "texts = [book1,book2,book3,book4,\n",
    "         book5,book6,book7]"
   ]
  },
  {
   "cell_type": "code",
   "execution_count": 10,
   "metadata": {},
   "outputs": [],
   "source": [
    "#Utitlity functions for removing ASCII characters, converting lower case, removing stop words, html and punctuation from description\n",
    "def _removeNonAscii(s):\n",
    "    return \"\".join(i for i in s if  ord(i)<128)\n",
    "\n",
    "def make_lower_case(text):\n",
    "    return text.lower()\n",
    "\n",
    "def remove_stop_words(text):\n",
    "    text = text.split()\n",
    "    stops = set(stopwords.words(\"english\"))\n",
    "    text = [w for w in text if not w in stops]\n",
    "    text = \" \".join(text)\n",
    "    return text\n",
    "\n",
    "def remove_html(text):\n",
    "    html_pattern = re.compile('<.*?>')\n",
    "    return html_pattern.sub(r'', text)\n",
    "\n",
    "def remove_punctuation(text):\n",
    "    tokenizer = RegexpTokenizer(r'\\w+')\n",
    "    text = tokenizer.tokenize(text)\n",
    "    text = \" \".join(text)\n",
    "    return text"
   ]
  },
  {
   "cell_type": "code",
   "execution_count": 11,
   "metadata": {
    "execution": {
     "iopub.execute_input": "2021-06-07T15:31:25.085983Z",
     "iopub.status.busy": "2021-06-07T15:31:25.085397Z",
     "iopub.status.idle": "2021-06-07T15:31:26.210438Z",
     "shell.execute_reply": "2021-06-07T15:31:26.209046Z",
     "shell.execute_reply.started": "2021-06-07T15:31:25.085926Z"
    }
   },
   "outputs": [],
   "source": [
    "books_dict = {'book_title': titles,\n",
    "              'publishing_date': publish_dates,\n",
    "              'authors': authors,\n",
    "              'text': texts}\n",
    "df = pd.DataFrame.from_dict(data=books_dict, orient='columns')\n",
    "df['text_clean'] = df['text'].astype(str)\n",
    "df['text_clean'] = df['text_clean'].apply(_removeNonAscii)\n",
    "df['text_clean'] = df['text_clean'].apply(func = make_lower_case)\n",
    "df['text_clean'] = df['text_clean'].apply(func = remove_stop_words)\n",
    "df['text_clean'] = df['text_clean'].apply(func=remove_punctuation)\n",
    "df['text_clean'] = df['text_clean'].apply(func=remove_html)"
   ]
  },
  {
   "cell_type": "code",
   "execution_count": 12,
   "metadata": {
    "execution": {
     "iopub.execute_input": "2021-06-07T15:32:40.823935Z",
     "iopub.status.busy": "2021-06-07T15:32:40.823459Z",
     "iopub.status.idle": "2021-06-07T15:32:41.218363Z",
     "shell.execute_reply": "2021-06-07T15:32:41.217173Z",
     "shell.execute_reply.started": "2021-06-07T15:32:40.823875Z"
    }
   },
   "outputs": [],
   "source": [
    "df.to_csv('Empiricism_works_corpus.csv', header=True)"
   ]
  }
 ],
 "metadata": {
  "kernelspec": {
   "display_name": "Python 3",
   "language": "python",
   "name": "python3"
  },
  "language_info": {
   "codemirror_mode": {
    "name": "ipython",
    "version": 3
   },
   "file_extension": ".py",
   "mimetype": "text/x-python",
   "name": "python",
   "nbconvert_exporter": "python",
   "pygments_lexer": "ipython3",
   "version": "3.7.10"
  }
 },
 "nbformat": 4,
 "nbformat_minor": 4
}
