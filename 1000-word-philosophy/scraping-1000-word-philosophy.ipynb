{
 "cells": [
  {
   "cell_type": "code",
   "execution_count": 1,
   "id": "2bbaaeb0",
   "metadata": {
    "_cell_guid": "b1076dfc-b9ad-4769-8c92-a6c4dae69d19",
    "_uuid": "8f2839f25d086af736a60e9eeb907d3b93b6e0e5",
    "execution": {
     "iopub.execute_input": "2021-07-21T23:21:56.560822Z",
     "iopub.status.busy": "2021-07-21T23:21:56.560141Z",
     "iopub.status.idle": "2021-07-21T23:21:56.750131Z",
     "shell.execute_reply": "2021-07-21T23:21:56.749257Z",
     "shell.execute_reply.started": "2021-07-21T22:54:47.054346Z"
    },
    "papermill": {
     "duration": 0.213181,
     "end_time": "2021-07-21T23:21:56.750318",
     "exception": false,
     "start_time": "2021-07-21T23:21:56.537137",
     "status": "completed"
    },
    "tags": []
   },
   "outputs": [],
   "source": [
    "import pandas as pd\n",
    "from tqdm.notebook import tqdm\n",
    "import urllib"
   ]
  },
  {
   "cell_type": "markdown",
   "id": "37178dfb",
   "metadata": {
    "papermill": {
     "duration": 0.010132,
     "end_time": "2021-07-21T23:21:56.771861",
     "exception": false,
     "start_time": "2021-07-21T23:21:56.761729",
     "status": "completed"
    },
    "tags": []
   },
   "source": [
    "# Collecting All Links"
   ]
  },
  {
   "cell_type": "code",
   "execution_count": 2,
   "id": "9627daa0",
   "metadata": {
    "execution": {
     "iopub.execute_input": "2021-07-21T23:21:56.803300Z",
     "iopub.status.busy": "2021-07-21T23:21:56.802556Z",
     "iopub.status.idle": "2021-07-21T23:21:57.520695Z",
     "shell.execute_reply": "2021-07-21T23:21:57.520118Z",
     "shell.execute_reply.started": "2021-07-21T22:55:18.880916Z"
    },
    "papermill": {
     "duration": 0.737155,
     "end_time": "2021-07-21T23:21:57.520857",
     "exception": false,
     "start_time": "2021-07-21T23:21:56.783702",
     "status": "completed"
    },
    "tags": []
   },
   "outputs": [],
   "source": [
    "import requests\n",
    "from bs4 import BeautifulSoup\n",
    "\n",
    "\n",
    "url = f\"https://1000wordphilosophy.com/all-essays/\"\n",
    "reqs = requests.get(url)\n",
    "soup = BeautifulSoup(reqs.text, 'html.parser')\n",
    "\n",
    "valid_speech_urls = []\n",
    "\n",
    "for link in soup.find_all('a'):\n",
    "    curr_url = link.get('href')\n",
    "    if not isinstance(curr_url, str): continue\n",
    "    if '/20' in curr_url:\n",
    "        valid_speech_urls.append(curr_url)"
   ]
  },
  {
   "cell_type": "markdown",
   "id": "c866acef",
   "metadata": {
    "papermill": {
     "duration": 0.009861,
     "end_time": "2021-07-21T23:21:57.541795",
     "exception": false,
     "start_time": "2021-07-21T23:21:57.531934",
     "status": "completed"
    },
    "tags": []
   },
   "source": [
    "# Reading Essay Content"
   ]
  },
  {
   "cell_type": "markdown",
   "id": "17efa75f",
   "metadata": {
    "papermill": {
     "duration": 0.011422,
     "end_time": "2021-07-21T23:21:57.564262",
     "exception": false,
     "start_time": "2021-07-21T23:21:57.552840",
     "status": "completed"
    },
    "tags": []
   },
   "source": [
    "## Installing Necessary Libraries"
   ]
  },
  {
   "cell_type": "code",
   "execution_count": 3,
   "id": "643e0987",
   "metadata": {
    "execution": {
     "iopub.execute_input": "2021-07-21T23:21:57.605558Z",
     "iopub.status.busy": "2021-07-21T23:21:57.590828Z",
     "iopub.status.idle": "2021-07-21T23:22:07.172071Z",
     "shell.execute_reply": "2021-07-21T23:22:07.171437Z",
     "shell.execute_reply.started": "2021-07-21T22:55:25.733475Z"
    },
    "papermill": {
     "duration": 9.59755,
     "end_time": "2021-07-21T23:22:07.172234",
     "exception": false,
     "start_time": "2021-07-21T23:21:57.574684",
     "status": "completed"
    },
    "tags": []
   },
   "outputs": [
    {
     "name": "stdout",
     "output_type": "stream",
     "text": [
      "Collecting html2text\r\n",
      "  Downloading html2text-2020.1.16-py3-none-any.whl (32 kB)\r\n",
      "Installing collected packages: html2text\r\n",
      "Successfully installed html2text-2020.1.16\r\n",
      "\u001b[33mWARNING: Running pip as root will break packages and permissions. You should install packages reliably by using venv: https://pip.pypa.io/warnings/venv\u001b[0m\r\n"
     ]
    }
   ],
   "source": [
    "!pip install html2text\n",
    "import html2text\n",
    "h = html2text.HTML2Text()\n",
    "h.ignore_links = True"
   ]
  },
  {
   "cell_type": "code",
   "execution_count": 4,
   "id": "4726da15",
   "metadata": {
    "execution": {
     "iopub.execute_input": "2021-07-21T23:22:07.204135Z",
     "iopub.status.busy": "2021-07-21T23:22:07.203107Z",
     "iopub.status.idle": "2021-07-21T23:22:19.092774Z",
     "shell.execute_reply": "2021-07-21T23:22:19.092196Z",
     "shell.execute_reply.started": "2021-07-21T22:55:38.492895Z"
    },
    "papermill": {
     "duration": 11.907464,
     "end_time": "2021-07-21T23:22:19.092951",
     "exception": false,
     "start_time": "2021-07-21T23:22:07.185487",
     "status": "completed"
    },
    "tags": []
   },
   "outputs": [
    {
     "name": "stdout",
     "output_type": "stream",
     "text": [
      "Collecting wordninja\r\n",
      "  Downloading wordninja-2.0.0.tar.gz (541 kB)\r\n",
      "\u001b[K     |████████████████████████████████| 541 kB 4.2 MB/s \r\n",
      "\u001b[?25hBuilding wheels for collected packages: wordninja\r\n",
      "  Building wheel for wordninja (setup.py) ... \u001b[?25l-\b \b\\\b \bdone\r\n",
      "\u001b[?25h  Created wheel for wordninja: filename=wordninja-2.0.0-py3-none-any.whl size=541553 sha256=7e9964a063c77d8ebc73e1ddf3d14184e730615737ce4203f3e357b15ad1800f\r\n",
      "  Stored in directory: /root/.cache/pip/wheels/dd/3f/eb/a2692e3d2b9deb1487b09ba4967dd6920bd5032bfd9ff7acfc\r\n",
      "Successfully built wordninja\r\n",
      "Installing collected packages: wordninja\r\n",
      "Successfully installed wordninja-2.0.0\r\n",
      "\u001b[33mWARNING: Running pip as root will break packages and permissions. You should install packages reliably by using venv: https://pip.pypa.io/warnings/venv\u001b[0m\r\n"
     ]
    }
   ],
   "source": [
    "!pip install wordninja\n",
    "import wordninja\n",
    "import textblob\n",
    "from textblob import TextBlob"
   ]
  },
  {
   "cell_type": "code",
   "execution_count": 5,
   "id": "a31fdc33",
   "metadata": {
    "execution": {
     "iopub.execute_input": "2021-07-21T23:22:19.134666Z",
     "iopub.status.busy": "2021-07-21T23:22:19.129434Z",
     "iopub.status.idle": "2021-07-21T23:22:26.855404Z",
     "shell.execute_reply": "2021-07-21T23:22:26.855933Z",
     "shell.execute_reply.started": "2021-07-21T22:57:41.995344Z"
    },
    "papermill": {
     "duration": 7.748062,
     "end_time": "2021-07-21T23:22:26.856124",
     "exception": false,
     "start_time": "2021-07-21T23:22:19.108062",
     "status": "completed"
    },
    "tags": []
   },
   "outputs": [
    {
     "name": "stdout",
     "output_type": "stream",
     "text": [
      "Collecting pyenchant\r\n",
      "  Downloading pyenchant-3.2.1-py3-none-any.whl (55 kB)\r\n",
      "\u001b[K     |████████████████████████████████| 55 kB 1.5 MB/s \r\n",
      "\u001b[?25hInstalling collected packages: pyenchant\r\n",
      "Successfully installed pyenchant-3.2.1\r\n",
      "\u001b[33mWARNING: Running pip as root will break packages and permissions. You should install packages reliably by using venv: https://pip.pypa.io/warnings/venv\u001b[0m\r\n"
     ]
    }
   ],
   "source": [
    "!pip install pyenchant"
   ]
  },
  {
   "cell_type": "markdown",
   "id": "339b3df1",
   "metadata": {
    "papermill": {
     "duration": 0.016084,
     "end_time": "2021-07-21T23:22:26.888355",
     "exception": false,
     "start_time": "2021-07-21T23:22:26.872271",
     "status": "completed"
    },
    "tags": []
   },
   "source": [
    "## Perform Scraping"
   ]
  },
  {
   "cell_type": "code",
   "execution_count": 6,
   "id": "fd085005",
   "metadata": {
    "execution": {
     "iopub.execute_input": "2021-07-21T23:22:26.929441Z",
     "iopub.status.busy": "2021-07-21T23:22:26.928712Z",
     "iopub.status.idle": "2021-07-21T23:22:26.930829Z",
     "shell.execute_reply": "2021-07-21T23:22:26.931339Z",
     "shell.execute_reply.started": "2021-07-21T22:59:10.609816Z"
    },
    "papermill": {
     "duration": 0.025987,
     "end_time": "2021-07-21T23:22:26.931514",
     "exception": false,
     "start_time": "2021-07-21T23:22:26.905527",
     "status": "completed"
    },
    "tags": []
   },
   "outputs": [],
   "source": [
    "from nltk.corpus import words"
   ]
  },
  {
   "cell_type": "code",
   "execution_count": 7,
   "id": "6bd3067e",
   "metadata": {
    "execution": {
     "iopub.execute_input": "2021-07-21T23:22:26.982597Z",
     "iopub.status.busy": "2021-07-21T23:22:26.981669Z",
     "iopub.status.idle": "2021-07-21T23:25:44.904902Z",
     "shell.execute_reply": "2021-07-21T23:25:44.905491Z",
     "shell.execute_reply.started": "2021-07-21T23:03:52.785413Z"
    },
    "papermill": {
     "duration": 197.956426,
     "end_time": "2021-07-21T23:25:44.905682",
     "exception": false,
     "start_time": "2021-07-21T23:22:26.949256",
     "status": "completed"
    },
    "tags": []
   },
   "outputs": [
    {
     "data": {
      "application/vnd.jupyter.widget-view+json": {
       "model_id": "287de152b6034492bcc88247789357fc",
       "version_major": 2,
       "version_minor": 0
      },
      "text/plain": [
       "  0%|          | 0/211 [00:00<?, ?it/s]"
      ]
     },
     "metadata": {},
     "output_type": "display_data"
    }
   ],
   "source": [
    "data = {'URL':[],\n",
    "        'Text':[],\n",
    "        'Date':[],\n",
    "        'Author':[]}\n",
    "wordset = words.words()\n",
    "\n",
    "for i in tqdm(range(len(valid_speech_urls))):\n",
    "\n",
    "    url = valid_speech_urls[i]\n",
    "\n",
    "    file = urllib.request.urlopen(url)\n",
    "    text = []\n",
    "    for line in file:\n",
    "        text.append(line.decode('utf-8'))\n",
    "    text = ' '.join(text)\n",
    "    text = text.split('<span style=\"color:#000000;\">Notes</span></h3>')[0]\n",
    "\n",
    "    title = text.split('\\n \\n <title>')[1].split('&#8211;')[0].strip()\n",
    "    date = text.split('</time><time ')[0].split('>')[-1]\n",
    "    try:\n",
    "        author = text.split('content=\"Author: ')[1].split('Category:')[0].strip()\n",
    "    except:\n",
    "        author = 'No author'\n",
    "    \n",
    "    try:\n",
    "        text = text.split('Word Count:')[1].strip()\n",
    "        text = ' '.join(text.split('</span></p>')[1:len(text.split('</span></p>'))])\n",
    "    except:\n",
    "        pass\n",
    "    text = h.handle(text)\n",
    "    text = text.replace('\\n','')\n",
    "    text = text.replace('#','')\n",
    "    text = text.replace('\\\\','')\n",
    "    text = text.replace('‘','\\'')\n",
    "    text = text.replace('’','\\'')\n",
    "    text = text.replace('_','')\n",
    "    text = text.replace('*','')\n",
    "\n",
    "    text = text.strip()\n",
    "\n",
    "    for word in text.split():\n",
    "        if word in wordset: \n",
    "            continue\n",
    "        split = wordninja.split(word)\n",
    "        for punc in ['.',',','!',';',')','(','[',']','\"',\"'\",':']:\n",
    "            if punc in word: word = word.replace(punc,'')\n",
    "        if split==[] or word == split[0]: continue\n",
    "        text = text.replace(word, ' '.join(split))\n",
    "        \n",
    "    data['Text'].append(text)\n",
    "    data['URL'].append(url)\n",
    "    data['Author'].append(author)\n",
    "    data['Date'].append(date)"
   ]
  },
  {
   "cell_type": "code",
   "execution_count": 8,
   "id": "9c5dd639",
   "metadata": {
    "execution": {
     "iopub.execute_input": "2021-07-21T23:25:44.950504Z",
     "iopub.status.busy": "2021-07-21T23:25:44.949602Z",
     "iopub.status.idle": "2021-07-21T23:25:44.993608Z",
     "shell.execute_reply": "2021-07-21T23:25:44.992585Z",
     "shell.execute_reply.started": "2021-07-21T23:13:16.475726Z"
    },
    "papermill": {
     "duration": 0.071293,
     "end_time": "2021-07-21T23:25:44.993773",
     "exception": false,
     "start_time": "2021-07-21T23:25:44.922480",
     "status": "completed"
    },
    "tags": []
   },
   "outputs": [],
   "source": [
    "data = pd.DataFrame(data)\n",
    "data.to_csv('1000-word-philosophy.csv')"
   ]
  },
  {
   "cell_type": "code",
   "execution_count": null,
   "id": "ae4a8022",
   "metadata": {
    "papermill": {
     "duration": 0.016267,
     "end_time": "2021-07-21T23:25:45.026707",
     "exception": false,
     "start_time": "2021-07-21T23:25:45.010440",
     "status": "completed"
    },
    "tags": []
   },
   "outputs": [],
   "source": []
  }
 ],
 "metadata": {
  "kernelspec": {
   "display_name": "Python 3",
   "language": "python",
   "name": "python3"
  },
  "language_info": {
   "codemirror_mode": {
    "name": "ipython",
    "version": 3
   },
   "file_extension": ".py",
   "mimetype": "text/x-python",
   "name": "python",
   "nbconvert_exporter": "python",
   "pygments_lexer": "ipython3",
   "version": "3.7.10"
  },
  "papermill": {
   "default_parameters": {},
   "duration": 239.994915,
   "end_time": "2021-07-21T23:25:46.722415",
   "environment_variables": {},
   "exception": null,
   "input_path": "__notebook__.ipynb",
   "output_path": "__notebook__.ipynb",
   "parameters": {},
   "start_time": "2021-07-21T23:21:46.727500",
   "version": "2.3.3"
  },
  "widgets": {
   "application/vnd.jupyter.widget-state+json": {
    "state": {
     "287de152b6034492bcc88247789357fc": {
      "model_module": "@jupyter-widgets/controls",
      "model_module_version": "1.5.0",
      "model_name": "HBoxModel",
      "state": {
       "_dom_classes": [],
       "_model_module": "@jupyter-widgets/controls",
       "_model_module_version": "1.5.0",
       "_model_name": "HBoxModel",
       "_view_count": null,
       "_view_module": "@jupyter-widgets/controls",
       "_view_module_version": "1.5.0",
       "_view_name": "HBoxView",
       "box_style": "",
       "children": [
        "IPY_MODEL_df40c8f0124c46af977565ca9d301b9a",
        "IPY_MODEL_c00822bc26ed42258971ff91d067f13e",
        "IPY_MODEL_5e0c21171c554af2b7617f016619fd41"
       ],
       "layout": "IPY_MODEL_da0fb609274b489aa838666654bcd150"
      }
     },
     "5e0c21171c554af2b7617f016619fd41": {
      "model_module": "@jupyter-widgets/controls",
      "model_module_version": "1.5.0",
      "model_name": "HTMLModel",
      "state": {
       "_dom_classes": [],
       "_model_module": "@jupyter-widgets/controls",
       "_model_module_version": "1.5.0",
       "_model_name": "HTMLModel",
       "_view_count": null,
       "_view_module": "@jupyter-widgets/controls",
       "_view_module_version": "1.5.0",
       "_view_name": "HTMLView",
       "description": "",
       "description_tooltip": null,
       "layout": "IPY_MODEL_7fa78c73fae447bfb2116ce7e712ff48",
       "placeholder": "​",
       "style": "IPY_MODEL_67b055d444af4e5caf7cfb3b1fa36ee3",
       "value": " 211/211 [03:17&lt;00:00,  1.10it/s]"
      }
     },
     "67b055d444af4e5caf7cfb3b1fa36ee3": {
      "model_module": "@jupyter-widgets/controls",
      "model_module_version": "1.5.0",
      "model_name": "DescriptionStyleModel",
      "state": {
       "_model_module": "@jupyter-widgets/controls",
       "_model_module_version": "1.5.0",
       "_model_name": "DescriptionStyleModel",
       "_view_count": null,
       "_view_module": "@jupyter-widgets/base",
       "_view_module_version": "1.2.0",
       "_view_name": "StyleView",
       "description_width": ""
      }
     },
     "7375aee680ed4e87bdb07bae727fd0b1": {
      "model_module": "@jupyter-widgets/controls",
      "model_module_version": "1.5.0",
      "model_name": "DescriptionStyleModel",
      "state": {
       "_model_module": "@jupyter-widgets/controls",
       "_model_module_version": "1.5.0",
       "_model_name": "DescriptionStyleModel",
       "_view_count": null,
       "_view_module": "@jupyter-widgets/base",
       "_view_module_version": "1.2.0",
       "_view_name": "StyleView",
       "description_width": ""
      }
     },
     "7fa78c73fae447bfb2116ce7e712ff48": {
      "model_module": "@jupyter-widgets/base",
      "model_module_version": "1.2.0",
      "model_name": "LayoutModel",
      "state": {
       "_model_module": "@jupyter-widgets/base",
       "_model_module_version": "1.2.0",
       "_model_name": "LayoutModel",
       "_view_count": null,
       "_view_module": "@jupyter-widgets/base",
       "_view_module_version": "1.2.0",
       "_view_name": "LayoutView",
       "align_content": null,
       "align_items": null,
       "align_self": null,
       "border": null,
       "bottom": null,
       "display": null,
       "flex": null,
       "flex_flow": null,
       "grid_area": null,
       "grid_auto_columns": null,
       "grid_auto_flow": null,
       "grid_auto_rows": null,
       "grid_column": null,
       "grid_gap": null,
       "grid_row": null,
       "grid_template_areas": null,
       "grid_template_columns": null,
       "grid_template_rows": null,
       "height": null,
       "justify_content": null,
       "justify_items": null,
       "left": null,
       "margin": null,
       "max_height": null,
       "max_width": null,
       "min_height": null,
       "min_width": null,
       "object_fit": null,
       "object_position": null,
       "order": null,
       "overflow": null,
       "overflow_x": null,
       "overflow_y": null,
       "padding": null,
       "right": null,
       "top": null,
       "visibility": null,
       "width": null
      }
     },
     "abb50faa7b5c4aef895039c4462f3b9d": {
      "model_module": "@jupyter-widgets/base",
      "model_module_version": "1.2.0",
      "model_name": "LayoutModel",
      "state": {
       "_model_module": "@jupyter-widgets/base",
       "_model_module_version": "1.2.0",
       "_model_name": "LayoutModel",
       "_view_count": null,
       "_view_module": "@jupyter-widgets/base",
       "_view_module_version": "1.2.0",
       "_view_name": "LayoutView",
       "align_content": null,
       "align_items": null,
       "align_self": null,
       "border": null,
       "bottom": null,
       "display": null,
       "flex": null,
       "flex_flow": null,
       "grid_area": null,
       "grid_auto_columns": null,
       "grid_auto_flow": null,
       "grid_auto_rows": null,
       "grid_column": null,
       "grid_gap": null,
       "grid_row": null,
       "grid_template_areas": null,
       "grid_template_columns": null,
       "grid_template_rows": null,
       "height": null,
       "justify_content": null,
       "justify_items": null,
       "left": null,
       "margin": null,
       "max_height": null,
       "max_width": null,
       "min_height": null,
       "min_width": null,
       "object_fit": null,
       "object_position": null,
       "order": null,
       "overflow": null,
       "overflow_x": null,
       "overflow_y": null,
       "padding": null,
       "right": null,
       "top": null,
       "visibility": null,
       "width": null
      }
     },
     "b7534c4a64ab41c498b3604f39b2b763": {
      "model_module": "@jupyter-widgets/controls",
      "model_module_version": "1.5.0",
      "model_name": "ProgressStyleModel",
      "state": {
       "_model_module": "@jupyter-widgets/controls",
       "_model_module_version": "1.5.0",
       "_model_name": "ProgressStyleModel",
       "_view_count": null,
       "_view_module": "@jupyter-widgets/base",
       "_view_module_version": "1.2.0",
       "_view_name": "StyleView",
       "bar_color": null,
       "description_width": ""
      }
     },
     "c00822bc26ed42258971ff91d067f13e": {
      "model_module": "@jupyter-widgets/controls",
      "model_module_version": "1.5.0",
      "model_name": "FloatProgressModel",
      "state": {
       "_dom_classes": [],
       "_model_module": "@jupyter-widgets/controls",
       "_model_module_version": "1.5.0",
       "_model_name": "FloatProgressModel",
       "_view_count": null,
       "_view_module": "@jupyter-widgets/controls",
       "_view_module_version": "1.5.0",
       "_view_name": "ProgressView",
       "bar_style": "success",
       "description": "",
       "description_tooltip": null,
       "layout": "IPY_MODEL_abb50faa7b5c4aef895039c4462f3b9d",
       "max": 211.0,
       "min": 0.0,
       "orientation": "horizontal",
       "style": "IPY_MODEL_b7534c4a64ab41c498b3604f39b2b763",
       "value": 211.0
      }
     },
     "cd1de388df3541bcb7bc9ea0921843a8": {
      "model_module": "@jupyter-widgets/base",
      "model_module_version": "1.2.0",
      "model_name": "LayoutModel",
      "state": {
       "_model_module": "@jupyter-widgets/base",
       "_model_module_version": "1.2.0",
       "_model_name": "LayoutModel",
       "_view_count": null,
       "_view_module": "@jupyter-widgets/base",
       "_view_module_version": "1.2.0",
       "_view_name": "LayoutView",
       "align_content": null,
       "align_items": null,
       "align_self": null,
       "border": null,
       "bottom": null,
       "display": null,
       "flex": null,
       "flex_flow": null,
       "grid_area": null,
       "grid_auto_columns": null,
       "grid_auto_flow": null,
       "grid_auto_rows": null,
       "grid_column": null,
       "grid_gap": null,
       "grid_row": null,
       "grid_template_areas": null,
       "grid_template_columns": null,
       "grid_template_rows": null,
       "height": null,
       "justify_content": null,
       "justify_items": null,
       "left": null,
       "margin": null,
       "max_height": null,
       "max_width": null,
       "min_height": null,
       "min_width": null,
       "object_fit": null,
       "object_position": null,
       "order": null,
       "overflow": null,
       "overflow_x": null,
       "overflow_y": null,
       "padding": null,
       "right": null,
       "top": null,
       "visibility": null,
       "width": null
      }
     },
     "da0fb609274b489aa838666654bcd150": {
      "model_module": "@jupyter-widgets/base",
      "model_module_version": "1.2.0",
      "model_name": "LayoutModel",
      "state": {
       "_model_module": "@jupyter-widgets/base",
       "_model_module_version": "1.2.0",
       "_model_name": "LayoutModel",
       "_view_count": null,
       "_view_module": "@jupyter-widgets/base",
       "_view_module_version": "1.2.0",
       "_view_name": "LayoutView",
       "align_content": null,
       "align_items": null,
       "align_self": null,
       "border": null,
       "bottom": null,
       "display": null,
       "flex": null,
       "flex_flow": null,
       "grid_area": null,
       "grid_auto_columns": null,
       "grid_auto_flow": null,
       "grid_auto_rows": null,
       "grid_column": null,
       "grid_gap": null,
       "grid_row": null,
       "grid_template_areas": null,
       "grid_template_columns": null,
       "grid_template_rows": null,
       "height": null,
       "justify_content": null,
       "justify_items": null,
       "left": null,
       "margin": null,
       "max_height": null,
       "max_width": null,
       "min_height": null,
       "min_width": null,
       "object_fit": null,
       "object_position": null,
       "order": null,
       "overflow": null,
       "overflow_x": null,
       "overflow_y": null,
       "padding": null,
       "right": null,
       "top": null,
       "visibility": null,
       "width": null
      }
     },
     "df40c8f0124c46af977565ca9d301b9a": {
      "model_module": "@jupyter-widgets/controls",
      "model_module_version": "1.5.0",
      "model_name": "HTMLModel",
      "state": {
       "_dom_classes": [],
       "_model_module": "@jupyter-widgets/controls",
       "_model_module_version": "1.5.0",
       "_model_name": "HTMLModel",
       "_view_count": null,
       "_view_module": "@jupyter-widgets/controls",
       "_view_module_version": "1.5.0",
       "_view_name": "HTMLView",
       "description": "",
       "description_tooltip": null,
       "layout": "IPY_MODEL_cd1de388df3541bcb7bc9ea0921843a8",
       "placeholder": "​",
       "style": "IPY_MODEL_7375aee680ed4e87bdb07bae727fd0b1",
       "value": "100%"
      }
     }
    },
    "version_major": 2,
    "version_minor": 0
   }
  }
 },
 "nbformat": 4,
 "nbformat_minor": 5
}
