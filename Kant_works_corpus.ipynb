{
 "cells": [
  {
   "cell_type": "code",
   "execution_count": 1,
   "metadata": {
    "_cell_guid": "758cd899-bfd5-4be6-a65a-666bcf8f7a63",
    "_uuid": "d2302def-fe6a-4a69-9656-1cddb7559487",
    "execution": {
     "iopub.execute_input": "2021-06-07T15:31:20.177822Z",
     "iopub.status.busy": "2021-06-07T15:31:20.177446Z",
     "iopub.status.idle": "2021-06-07T15:31:20.185926Z",
     "shell.execute_reply": "2021-06-07T15:31:20.184498Z",
     "shell.execute_reply.started": "2021-06-07T15:31:20.177789Z"
    },
    "jupyter": {
     "outputs_hidden": false
    }
   },
   "outputs": [
    {
     "name": "stderr",
     "output_type": "stream",
     "text": [
      "[nltk_data] Downloading package stopwords to C:\\Users\\Akoua\n",
      "[nltk_data]     Orsot\\AppData\\Roaming\\nltk_data...\n",
      "[nltk_data]   Package stopwords is already up-to-date!\n"
     ]
    }
   ],
   "source": [
    "import numpy as np\n",
    "import pandas as pd\n",
    "\n",
    "import math\n",
    "import os\n",
    "import re\n",
    "import string\n",
    "import random\n",
    "import urllib3.request\n",
    "import zipfile\n",
    "import requests\n",
    "\n",
    "import nltk\n",
    "nltk.download('stopwords')\n",
    "from nltk.corpus import stopwords\n",
    "from nltk.tokenize import RegexpTokenizer\n",
    "import matplotlib.pyplot as plt\n",
    "\n",
    "import warnings\n",
    "warnings.filterwarnings(\"ignore\")"
   ]
  },
  {
   "cell_type": "code",
   "execution_count": 2,
   "metadata": {},
   "outputs": [],
   "source": [
    "# Bibliography\n",
    "# The Critique of Pure Reason\n",
    "pure = requests.get('https://www.gutenberg.org/files/4280/4280-0.txt')\n",
    "beg = pure.text.find('PREFACE TO THE FIRST EDITION 1781')\n",
    "end = pure.text.find('End of the Project Gutenberg EBook')\n",
    "book1 = pure.text[beg:end]"
   ]
  },
  {
   "cell_type": "code",
   "execution_count": 3,
   "metadata": {},
   "outputs": [],
   "source": [
    "# Fundamental Principles of the Metaphysic of Morals\n",
    "morals = requests.get('https://www.gutenberg.org/cache/epub/5682/pg5682.txt')\n",
    "beg = morals.text.find('PREFACE')\n",
    "end = morals.text.find('*** END OF THE PROJECT GUTENBERG EBOOK')\n",
    "book2 = morals.text[beg:end]"
   ]
  },
  {
   "cell_type": "code",
   "execution_count": 4,
   "metadata": {},
   "outputs": [],
   "source": [
    "# The Critique of Practical Reason\n",
    "prac = requests.get('https://www.gutenberg.org/cache/epub/5683/pg5683.txt')\n",
    "beg = prac.text.find('PREFACE.')\n",
    "end = prac.text.find('End of Project Gutenberg')\n",
    "book3 = prac.text[beg:end]"
   ]
  },
  {
   "cell_type": "code",
   "execution_count": 5,
   "metadata": {},
   "outputs": [],
   "source": [
    "# The Metaphysical Elements of Ethics\n",
    "ethics = requests.get('https://www.gutenberg.org/cache/epub/5684/pg5684.txt')\n",
    "beg = ethics.text.find('PREFACE')\n",
    "end = ethics.text.find('End of the Project Gutenberg EBook ')\n",
    "book4 = ethics.text[beg:end]"
   ]
  },
  {
   "cell_type": "code",
   "execution_count": 6,
   "metadata": {},
   "outputs": [],
   "source": [
    "# Perpetual Peace\n",
    "peace = requests.get('https://www.gutenberg.org/files/50922/50922-0.txt')\n",
    "beg = peace.text.find('_FIRST SECTION_')\n",
    "end = peace.text.find('ever nearer to this goal.')\n",
    "book5 = peace.text[beg:end]+'ever nearer to this goal.'"
   ]
  },
  {
   "cell_type": "code",
   "execution_count": 7,
   "metadata": {},
   "outputs": [],
   "source": [
    "# Of the Injustice of Counterfeiting Books\n",
    "counter = requests.get('https://www.gutenberg.org/cache/epub/46060/pg46060.txt')\n",
    "beg = counter.text.find('Those who consider the publication of a book')\n",
    "end = counter.text.find('End of the Project Gutenberg EBook')\n",
    "book6 = counter.text[beg:end]"
   ]
  },
  {
   "cell_type": "code",
   "execution_count": 8,
   "metadata": {},
   "outputs": [],
   "source": [
    "# Prolegomena\n",
    "prol = requests.get('https://www.gutenberg.org/files/52821/52821-0.txt')\n",
    "beg = prol.text.find('\\r\\n\\r\\nINTRODUCTION.\\r\\n\\r\\nThese Prolegomena')\n",
    "end = prol.text.find('End of the Project Gutenberg EBook')\n",
    "book7 = prol.text[beg:end]"
   ]
  },
  {
   "cell_type": "code",
   "execution_count": 9,
   "metadata": {},
   "outputs": [],
   "source": [
    "# Critique of Judgement\n",
    "judg = requests.get('https://www.gutenberg.org/files/48433/48433-0.txt')\n",
    "beg = judg.text.find('PREFACE\\r\\n\\r\\n\\r\\nWe may call the faculty')\n",
    "end = judg.text.find('End of Project Gutenberg')\n",
    "book8 = judg.text[beg:end]"
   ]
  },
  {
   "cell_type": "code",
   "execution_count": 10,
   "metadata": {},
   "outputs": [],
   "source": [
    "titles = ['The Critique of Pure Reason', \n",
    "          'Fundamental Principles of the Metaphysic of Morals',\n",
    "          'The Critique of Practical Reason',\n",
    "          'The Metaphysical Elements of Ethics', 'Perpetual Peace', \n",
    "          'Of the Injustice of Counterfeiting Books',\n",
    "          'Prolegomena to any future metaphysics', 'Critique of Judgement'\n",
    "         ]\n",
    "publish_dates = [1781, 1785, 1788, 1780, \n",
    "                 1795, 1798, 1783, 1790]\n",
    "\n",
    "texts = [book1,book2,book3,book4,\n",
    "         book5,book6,book7,book8]"
   ]
  },
  {
   "cell_type": "code",
   "execution_count": 11,
   "metadata": {},
   "outputs": [],
   "source": [
    "#Utitlity functions for removing ASCII characters, converting lower case, removing stop words, html and punctuation from description\n",
    "def _removeNonAscii(s):\n",
    "    return \"\".join(i for i in s if  ord(i)<128)\n",
    "\n",
    "def make_lower_case(text):\n",
    "    return text.lower()\n",
    "\n",
    "def remove_stop_words(text):\n",
    "    text = text.split()\n",
    "    stops = set(stopwords.words(\"english\"))\n",
    "    text = [w for w in text if not w in stops]\n",
    "    text = \" \".join(text)\n",
    "    return text\n",
    "\n",
    "def remove_html(text):\n",
    "    html_pattern = re.compile('<.*?>')\n",
    "    return html_pattern.sub(r'', text)\n",
    "\n",
    "def remove_punctuation(text):\n",
    "    tokenizer = RegexpTokenizer(r'\\w+')\n",
    "    text = tokenizer.tokenize(text)\n",
    "    text = \" \".join(text)\n",
    "    return text"
   ]
  },
  {
   "cell_type": "code",
   "execution_count": 12,
   "metadata": {
    "execution": {
     "iopub.execute_input": "2021-06-07T15:31:25.085983Z",
     "iopub.status.busy": "2021-06-07T15:31:25.085397Z",
     "iopub.status.idle": "2021-06-07T15:31:26.210438Z",
     "shell.execute_reply": "2021-06-07T15:31:26.209046Z",
     "shell.execute_reply.started": "2021-06-07T15:31:25.085926Z"
    }
   },
   "outputs": [],
   "source": [
    "books_dict = {'book_title': titles,\n",
    "              'publishing_date': publish_dates,\n",
    "              'text': texts}\n",
    "df = pd.DataFrame.from_dict(data=books_dict, orient='columns')\n",
    "df['text_clean'] = df['text'].astype(str)\n",
    "df['text_clean'] = df['text_clean'].apply(_removeNonAscii)\n",
    "df['text_clean'] = df['text_clean'].apply(func = make_lower_case)\n",
    "df['text_clean'] = df['text_clean'].apply(func = remove_stop_words)\n",
    "df['text_clean'] = df['text_clean'].apply(func=remove_punctuation)\n",
    "df['text_clean'] = df['text_clean'].apply(func=remove_html)"
   ]
  },
  {
   "cell_type": "code",
   "execution_count": 13,
   "metadata": {
    "execution": {
     "iopub.execute_input": "2021-06-07T15:32:40.823935Z",
     "iopub.status.busy": "2021-06-07T15:32:40.823459Z",
     "iopub.status.idle": "2021-06-07T15:32:41.218363Z",
     "shell.execute_reply": "2021-06-07T15:32:41.217173Z",
     "shell.execute_reply.started": "2021-06-07T15:32:40.823875Z"
    }
   },
   "outputs": [],
   "source": [
    "df.to_csv('Kant_works_corpus.csv', header=True)"
   ]
  }
 ],
 "metadata": {
  "kernelspec": {
   "display_name": "Python 3",
   "language": "python",
   "name": "python3"
  },
  "language_info": {
   "codemirror_mode": {
    "name": "ipython",
    "version": 3
   },
   "file_extension": ".py",
   "mimetype": "text/x-python",
   "name": "python",
   "nbconvert_exporter": "python",
   "pygments_lexer": "ipython3",
   "version": "3.7.10"
  }
 },
 "nbformat": 4,
 "nbformat_minor": 4
}
