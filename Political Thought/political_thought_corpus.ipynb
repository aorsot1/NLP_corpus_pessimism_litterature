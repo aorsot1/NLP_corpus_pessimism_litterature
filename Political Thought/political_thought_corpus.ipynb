{
 "cells": [
  {
   "cell_type": "markdown",
   "id": "biblical-amazon",
   "metadata": {
    "papermill": {
     "duration": 0.0153,
     "end_time": "2021-07-06T14:02:57.274734",
     "exception": false,
     "start_time": "2021-07-06T14:02:57.259434",
     "status": "completed"
    },
    "tags": []
   },
   "source": [
    "# Importing the necessary Libraries"
   ]
  },
  {
   "cell_type": "code",
   "execution_count": 1,
   "id": "favorite-potter",
   "metadata": {
    "_cell_guid": "758cd899-bfd5-4be6-a65a-666bcf8f7a63",
    "_uuid": "d2302def-fe6a-4a69-9656-1cddb7559487",
    "execution": {
     "iopub.execute_input": "2021-07-06T14:02:57.312592Z",
     "iopub.status.busy": "2021-07-06T14:02:57.311400Z",
     "iopub.status.idle": "2021-07-06T14:02:58.958882Z",
     "shell.execute_reply": "2021-07-06T14:02:58.959429Z",
     "shell.execute_reply.started": "2021-07-06T14:02:28.135434Z"
    },
    "jupyter": {
     "outputs_hidden": false
    },
    "papermill": {
     "duration": 1.669645,
     "end_time": "2021-07-06T14:02:58.959748",
     "exception": false,
     "start_time": "2021-07-06T14:02:57.290103",
     "status": "completed"
    },
    "tags": []
   },
   "outputs": [
    {
     "name": "stderr",
     "output_type": "stream",
     "text": [
      "[nltk_data] Downloading package stopwords to\n",
      "[nltk_data]     C:\\Users\\aorsot1\\AppData\\Roaming\\nltk_data...\n",
      "[nltk_data]   Package stopwords is already up-to-date!\n"
     ]
    }
   ],
   "source": [
    "import numpy as np\n",
    "import pandas as pd\n",
    "\n",
    "import math\n",
    "import os\n",
    "import re\n",
    "import string\n",
    "import random\n",
    "import urllib3.request\n",
    "import zipfile\n",
    "import requests\n",
    "\n",
    "import nltk\n",
    "nltk.download('stopwords')\n",
    "from nltk.corpus import stopwords\n",
    "from nltk.tokenize import RegexpTokenizer\n",
    "import matplotlib.pyplot as plt\n",
    "\n",
    "import warnings\n",
    "warnings.filterwarnings(\"ignore\")"
   ]
  },
  {
   "cell_type": "markdown",
   "id": "valuable-casting",
   "metadata": {
    "papermill": {
     "duration": 0.013475,
     "end_time": "2021-07-06T14:02:58.987397",
     "exception": false,
     "start_time": "2021-07-06T14:02:58.973922",
     "status": "completed"
    },
    "tags": []
   },
   "source": [
    "# Web Scrapping the texts from Project Gutenberg"
   ]
  },
  {
   "cell_type": "code",
   "execution_count": 2,
   "id": "equipped-stake",
   "metadata": {
    "execution": {
     "iopub.execute_input": "2021-07-06T14:02:59.018056Z",
     "iopub.status.busy": "2021-07-06T14:02:59.017444Z",
     "iopub.status.idle": "2021-07-06T14:02:59.588159Z",
     "shell.execute_reply": "2021-07-06T14:02:59.588627Z",
     "shell.execute_reply.started": "2021-07-06T14:02:30.049518Z"
    },
    "papermill": {
     "duration": 0.587504,
     "end_time": "2021-07-06T14:02:59.588831",
     "exception": false,
     "start_time": "2021-07-06T14:02:59.001327",
     "status": "completed"
    },
    "tags": []
   },
   "outputs": [],
   "source": [
    "# Plato - Republic\n",
    "rep = requests.get('https://www.gutenberg.org/cache/epub/150/pg150.txt')\n",
    "beg = rep.text.find('BOOK I')\n",
    "end = rep.text.find('End of the Project Gutenberg EBook')\n",
    "book1 = rep.text[beg:end]"
   ]
  },
  {
   "cell_type": "code",
   "execution_count": 3,
   "id": "continuing-intensity",
   "metadata": {},
   "outputs": [],
   "source": [
    "# Machiavelli - The Prince\n",
    "prc = requests.get('https://www.gutenberg.org/files/1232/1232-0.txt')\n",
    "beg = prc.text.find('DEDICATION\\r\\n\\r\\n\\r\\nTo the Magnificent')\n",
    "end = prc.text.find('*** END OF THE PROJECT GUTENBERG')\n",
    "book2 = prc.text[beg:end]"
   ]
  },
  {
   "cell_type": "code",
   "execution_count": 4,
   "id": "threatened-canvas",
   "metadata": {},
   "outputs": [],
   "source": [
    "# Hobbes - The Leviathan\n",
    "lvt = requests.get('https://www.gutenberg.org/files/3207/3207-0.txt')\n",
    "beg = lvt.text.find('Nature (the art whereby God hath made and governes the world)')\n",
    "end = lvt.text.find('FINIS')\n",
    "book3 = lvt.text[beg:end]"
   ]
  },
  {
   "cell_type": "code",
   "execution_count": 5,
   "id": "under-hypothetical",
   "metadata": {},
   "outputs": [],
   "source": [
    "# Locke - 2nd Treatise\n",
    "second = requests.get('https://www.gutenberg.org/cache/epub/7370/pg7370.txt')\n",
    "beg = second.text.find('PREFACE')\n",
    "end = second.text.find('FINIS.')\n",
    "book4 = second.text[beg:end]"
   ]
  },
  {
   "cell_type": "code",
   "execution_count": 6,
   "id": "automatic-consolidation",
   "metadata": {},
   "outputs": [],
   "source": [
    "# Lao - Tao\n",
    "tao = requests.get('https://www.gutenberg.org/cache/epub/216/pg216.txt')\n",
    "beg = tao.text.find('PART 1.')\n",
    "end = tao.text.find('End of the Project Gutenberg EBook')\n",
    "book5 = tao.text[beg:end]"
   ]
  },
  {
   "cell_type": "code",
   "execution_count": 7,
   "id": "prospective-stockholm",
   "metadata": {},
   "outputs": [],
   "source": [
    "# Rousseau - Contract\n",
    "soc = requests.get('https://www.gutenberg.org/files/46333/46333-0.txt')\n",
    "beg = soc.text.find('This little treatise')\n",
    "end = soc.text.find('***END OF THE PROJECT GUTENBERG EBOOK')\n",
    "book6 = soc.text[beg:end]"
   ]
  },
  {
   "cell_type": "code",
   "execution_count": 8,
   "id": "greenhouse-interaction",
   "metadata": {},
   "outputs": [],
   "source": [
    "# Schmitt - Political\n",
    "# scht = pd.read\n",
    "# beg = scht.text.find('BOOK I')\n",
    "# end = scht.text.find('End of the Project Gutenberg EBook')\n",
    "# book2 = scht.text[beg:end]\n",
    "# book2"
   ]
  },
  {
   "cell_type": "markdown",
   "id": "communist-melissa",
   "metadata": {
    "papermill": {
     "duration": 0.013147,
     "end_time": "2021-07-06T14:03:02.913877",
     "exception": false,
     "start_time": "2021-07-06T14:03:02.900730",
     "status": "completed"
    },
    "tags": []
   },
   "source": [
    "# Creating the lists with the necessary information to tabulate"
   ]
  },
  {
   "cell_type": "code",
   "execution_count": 9,
   "id": "laughing-upset",
   "metadata": {
    "execution": {
     "iopub.execute_input": "2021-07-06T14:03:02.943319Z",
     "iopub.status.busy": "2021-07-06T14:03:02.942718Z",
     "iopub.status.idle": "2021-07-06T14:03:02.947579Z",
     "shell.execute_reply": "2021-07-06T14:03:02.948090Z",
     "shell.execute_reply.started": "2021-07-06T14:02:35.632165Z"
    },
    "papermill": {
     "duration": 0.021136,
     "end_time": "2021-07-06T14:03:02.948246",
     "exception": false,
     "start_time": "2021-07-06T14:03:02.927110",
     "status": "completed"
    },
    "tags": []
   },
   "outputs": [],
   "source": [
    "titles = ['The Republic', 'The Prince', 'The Leviathan', \n",
    "          'Second Treatise of Government', 'Tao Te Ching', 'The Social Contract']\n",
    "authors = ['Plato', 'Niccolò Machiavelli', 'Thomas Hobbes', \n",
    "           'John Locke', 'Lao Tzu', 'Jean-Jacques Rousseau']\n",
    "publish_dates = [-375, 1532, 1651, 1689, -400, 1762]\n",
    "\n",
    "texts = [book1,book2,book3,\n",
    "         book4, book5,book6]"
   ]
  },
  {
   "cell_type": "markdown",
   "id": "beneficial-presence",
   "metadata": {
    "papermill": {
     "duration": 0.012804,
     "end_time": "2021-07-06T14:03:02.974275",
     "exception": false,
     "start_time": "2021-07-06T14:03:02.961471",
     "status": "completed"
    },
    "tags": []
   },
   "source": [
    "# Utility Functions"
   ]
  },
  {
   "cell_type": "code",
   "execution_count": 10,
   "id": "attached-payment",
   "metadata": {
    "execution": {
     "iopub.execute_input": "2021-07-06T14:03:03.004519Z",
     "iopub.status.busy": "2021-07-06T14:03:03.003886Z",
     "iopub.status.idle": "2021-07-06T14:03:03.011084Z",
     "shell.execute_reply": "2021-07-06T14:03:03.011570Z",
     "shell.execute_reply.started": "2021-07-06T14:02:35.640345Z"
    },
    "papermill": {
     "duration": 0.02373,
     "end_time": "2021-07-06T14:03:03.011750",
     "exception": false,
     "start_time": "2021-07-06T14:03:02.988020",
     "status": "completed"
    },
    "tags": []
   },
   "outputs": [],
   "source": [
    "#Utitlity functions for removing ASCII characters, converting lower case, removing stop words, html and punctuation from description\n",
    "def _removeNonAscii(s):\n",
    "    return \"\".join(i for i in s if  ord(i)<128)\n",
    "\n",
    "def make_lower_case(text):\n",
    "    return text.lower()\n",
    "\n",
    "def remove_stop_words(text):\n",
    "    text = text.split()\n",
    "    stops = set(stopwords.words(\"english\"))\n",
    "    text = [w for w in text if not w in stops]\n",
    "    text = \" \".join(text)\n",
    "    return text\n",
    "\n",
    "def remove_html(text):\n",
    "    html_pattern = re.compile('<.*?>')\n",
    "    return html_pattern.sub(r'', text)\n",
    "\n",
    "def remove_punctuation(text):\n",
    "    tokenizer = RegexpTokenizer(r'\\w+')\n",
    "    text = tokenizer.tokenize(text)\n",
    "    text = \" \".join(text)\n",
    "    return text"
   ]
  },
  {
   "cell_type": "markdown",
   "id": "dedicated-toyota",
   "metadata": {
    "papermill": {
     "duration": 0.013258,
     "end_time": "2021-07-06T14:03:03.038588",
     "exception": false,
     "start_time": "2021-07-06T14:03:03.025330",
     "status": "completed"
    },
    "tags": []
   },
   "source": [
    "# Creating a dataframe"
   ]
  },
  {
   "cell_type": "code",
   "execution_count": 11,
   "id": "intended-contact",
   "metadata": {
    "execution": {
     "iopub.execute_input": "2021-07-06T14:03:03.068628Z",
     "iopub.status.busy": "2021-07-06T14:03:03.068038Z",
     "iopub.status.idle": "2021-07-06T14:03:03.946804Z",
     "shell.execute_reply": "2021-07-06T14:03:03.946279Z",
     "shell.execute_reply.started": "2021-07-06T14:02:35.656204Z"
    },
    "papermill": {
     "duration": 0.894871,
     "end_time": "2021-07-06T14:03:03.946933",
     "exception": false,
     "start_time": "2021-07-06T14:03:03.052062",
     "status": "completed"
    },
    "tags": []
   },
   "outputs": [],
   "source": [
    "books_dict = {'book_title': titles,\n",
    "              'publishing_date': publish_dates,\n",
    "              'authors': authors,\n",
    "              'text': texts}\n",
    "df = pd.DataFrame.from_dict(data=books_dict, orient='columns')\n",
    "df['text_clean'] = df['text'].astype(str)\n",
    "df['text_clean'] = df['text_clean'].apply(_removeNonAscii)\n",
    "df['text_clean'] = df['text_clean'].apply(func = make_lower_case)\n",
    "df['text_clean'] = df['text_clean'].apply(func = remove_stop_words)\n",
    "df['text_clean'] = df['text_clean'].apply(func=remove_punctuation)\n",
    "df['text_clean'] = df['text_clean'].apply(func=remove_html)"
   ]
  },
  {
   "cell_type": "markdown",
   "id": "mexican-lloyd",
   "metadata": {
    "papermill": {
     "duration": 0.012965,
     "end_time": "2021-07-06T14:03:03.973452",
     "exception": false,
     "start_time": "2021-07-06T14:03:03.960487",
     "status": "completed"
    },
    "tags": []
   },
   "source": [
    "# Saving to csv file"
   ]
  },
  {
   "cell_type": "code",
   "execution_count": 12,
   "id": "flexible-bermuda",
   "metadata": {
    "execution": {
     "iopub.execute_input": "2021-07-06T14:03:04.004650Z",
     "iopub.status.busy": "2021-07-06T14:03:04.004041Z",
     "iopub.status.idle": "2021-07-06T14:03:04.266371Z",
     "shell.execute_reply": "2021-07-06T14:03:04.265855Z",
     "shell.execute_reply.started": "2021-07-06T14:02:36.609790Z"
    },
    "papermill": {
     "duration": 0.279881,
     "end_time": "2021-07-06T14:03:04.266511",
     "exception": false,
     "start_time": "2021-07-06T14:03:03.986630",
     "status": "completed"
    },
    "tags": []
   },
   "outputs": [],
   "source": [
    "df.to_csv('political_thought_works_corpus.csv', header=True)"
   ]
  }
 ],
 "metadata": {
  "kernelspec": {
   "display_name": "Python 3",
   "language": "python",
   "name": "python3"
  },
  "language_info": {
   "codemirror_mode": {
    "name": "ipython",
    "version": 3
   },
   "file_extension": ".py",
   "mimetype": "text/x-python",
   "name": "python",
   "nbconvert_exporter": "python",
   "pygments_lexer": "ipython3",
   "version": "3.8.8"
  },
  "papermill": {
   "default_parameters": {},
   "duration": 15.677635,
   "end_time": "2021-07-06T14:03:05.543033",
   "environment_variables": {},
   "exception": null,
   "input_path": "__notebook__.ipynb",
   "output_path": "__notebook__.ipynb",
   "parameters": {},
   "start_time": "2021-07-06T14:02:49.865398",
   "version": "2.3.3"
  }
 },
 "nbformat": 4,
 "nbformat_minor": 5
}
