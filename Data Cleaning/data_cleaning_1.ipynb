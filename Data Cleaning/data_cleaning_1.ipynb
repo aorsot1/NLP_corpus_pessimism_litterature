{
 "cells": [
  {
   "cell_type": "markdown",
   "id": "d52a8bc3",
   "metadata": {},
   "source": [
    "### Importing librairies"
   ]
  },
  {
   "cell_type": "code",
   "execution_count": 24,
   "id": "10a6df17",
   "metadata": {},
   "outputs": [],
   "source": [
    "import pandas as pd\n",
    "import numpy as np\n",
    "import math\n",
    "import matplotlib.pyplot as plt\n",
    "%matplotlib inline\n",
    "import seaborn as sns\n",
    "import spacy as sp\n",
    "\n",
    "from textblob import TextBlob\n",
    "from langdetect import DetectorFactory, detect, detect_langs"
   ]
  },
  {
   "cell_type": "markdown",
   "id": "d4d79c2b",
   "metadata": {},
   "source": [
    "### Setting up NLP pipeline "
   ]
  },
  {
   "cell_type": "code",
   "execution_count": 25,
   "id": "e86347a3",
   "metadata": {},
   "outputs": [],
   "source": [
    "nlp = sp.load(\"en_core_web_sm\")"
   ]
  },
  {
   "cell_type": "markdown",
   "id": "609236b2",
   "metadata": {},
   "source": [
    "### Test on a sample text"
   ]
  },
  {
   "cell_type": "code",
   "execution_count": null,
   "id": "b740523e",
   "metadata": {},
   "outputs": [],
   "source": [
    "# Process whole documents\n",
    "text = (\"When Sebastian Thrun started working on self-driving cars at \"\n",
    "        \"Google in 2007, few people outside of the company took him \"\n",
    "        \"seriously. “I can tell you very senior CEOs of major American \"\n",
    "        \"car companies would shake my hand and turn away because I wasn’t \"\n",
    "        \"worth talking to,” said Thrun, in an interview with Recode earlier \"\n",
    "        \"this week.\")\n",
    "doc = nlp(text)\n",
    "\n",
    "# Analyze syntax\n",
    "print(\"Noun phrases:\", [chunk.text for chunk in doc.noun_chunks])\n",
    "print(\"Verbs:\", [token.lemma_ for token in doc if token.pos_ == \"VERB\"])\n",
    "\n",
    "# Find named entities, phrases and concepts\n",
    "for entity in doc.ents:\n",
    "    print(entity.text, entity.label_)"
   ]
  },
  {
   "cell_type": "markdown",
   "id": "f9206b82",
   "metadata": {},
   "source": [
    "### Load the data"
   ]
  },
  {
   "cell_type": "code",
   "execution_count": null,
   "id": "c8323bda",
   "metadata": {},
   "outputs": [],
   "source": [
    "data = pd.read_csv('project-gutenberg-books.csv')\n",
    "data.head()"
   ]
  },
  {
   "cell_type": "code",
   "execution_count": null,
   "id": "66485e37",
   "metadata": {},
   "outputs": [],
   "source": [
    "data['Subject'].unique()"
   ]
  },
  {
   "cell_type": "code",
   "execution_count": null,
   "id": "e989f31a",
   "metadata": {},
   "outputs": [],
   "source": [
    "data.info()"
   ]
  },
  {
   "cell_type": "code",
   "execution_count": null,
   "id": "8c4bfbf7",
   "metadata": {},
   "outputs": [],
   "source": [
    "data.drop(['Unnamed: 0', 'Date'], axis=1, inplace=True)\n",
    "data.head()"
   ]
  },
  {
   "cell_type": "code",
   "execution_count": null,
   "id": "8b3e85a7",
   "metadata": {},
   "outputs": [],
   "source": [
    "data = data.applymap(str)"
   ]
  },
  {
   "cell_type": "code",
   "execution_count": null,
   "id": "58099515",
   "metadata": {},
   "outputs": [],
   "source": [
    "data.drop_duplicates(inplace=True, subset=['Author', 'Title'], keep='first')\n",
    "data.info()"
   ]
  },
  {
   "cell_type": "code",
   "execution_count": null,
   "id": "7e33b7d4",
   "metadata": {},
   "outputs": [],
   "source": [
    "data['Author'].unique()"
   ]
  },
  {
   "cell_type": "code",
   "execution_count": null,
   "id": "0dc25e96",
   "metadata": {},
   "outputs": [],
   "source": [
    "doc = nlp(\"Mercy Killing 5 May 2019 11 March 2021 \")\n",
    "\n",
    "for ent in doc.ents:\n",
    "    print(ent.text, ent.start_char, ent.end_char, ent.label_)"
   ]
  },
  {
   "cell_type": "code",
   "execution_count": null,
   "id": "2aad59e4",
   "metadata": {},
   "outputs": [],
   "source": [
    "data[\"Author\"].replace({\n",
    "    \"Friedrich Nietzsche\": \"Friedrich Wilhelm Nietzsche\", \n",
    "    \"F. W. Nietzsche\": \"Friedrich Wilhelm Nietzsche\",\n",
    "    \"Friedrich Nietzsche.\": \"Friedrich Wilhelm Nietzsche\",\n",
    "    \"Friedrich Nietzsche.\": \"Friedrich Wilhelm Nietzsche\",\n",
    "    \"graf Leo Tolstoy\": \"Leo Tolstoy\",\n",
    "    \"Grant Hague\": \"W. Grant Hague\"\n",
    "    }, inplace=True)"
   ]
  },
  {
   "cell_type": "code",
   "execution_count": null,
   "id": "9de3c18d",
   "metadata": {},
   "outputs": [],
   "source": [
    "data['Author'].unique()"
   ]
  },
  {
   "cell_type": "code",
   "execution_count": null,
   "id": "f87d234c",
   "metadata": {},
   "outputs": [],
   "source": [
    "data['Title'] = data['Title'].apply(lambda x: x[:x.find('\\r')+1] if x.find('\\r') != -1 else x)\n",
    "data['Title'].unique()"
   ]
  },
  {
   "cell_type": "code",
   "execution_count": null,
   "id": "af74a2bf",
   "metadata": {},
   "outputs": [],
   "source": [
    "def cut_text(text_str, text_tl):\n",
    "    if text_str.lower().find(text_tl.lower()) != -1:\n",
    "        lng = text_str.lower().find(text_tl.lower())\n",
    "        text_str = text_str[lng:]\n",
    "    else:\n",
    "        text_str\n",
    "    return text_str"
   ]
  },
  {
   "cell_type": "code",
   "execution_count": null,
   "id": "8b5e6997",
   "metadata": {},
   "outputs": [],
   "source": [
    "data['Text'] = data.apply(lambda x: cut_text(x['Text'], x['Title']),  axis=1)\n",
    "data.head()"
   ]
  },
  {
   "cell_type": "code",
   "execution_count": null,
   "id": "889d00ff",
   "metadata": {},
   "outputs": [],
   "source": [
    "data['Language'] = data['Text'].apply(lambda x: TextBlob(x.lower()[:100]).detect_language())\n",
    "data.head()"
   ]
  },
  {
   "cell_type": "code",
   "execution_count": null,
   "id": "415097df",
   "metadata": {},
   "outputs": [],
   "source": [
    "data['Language'].value_counts()"
   ]
  },
  {
   "cell_type": "code",
   "execution_count": null,
   "id": "b9bae7b9",
   "metadata": {},
   "outputs": [],
   "source": [
    "data.drop(data.index[data['Language'] != 'en'], inplace = True)"
   ]
  },
  {
   "cell_type": "code",
   "execution_count": null,
   "id": "7fbc8643",
   "metadata": {},
   "outputs": [],
   "source": [
    "data['Language'].value_counts()"
   ]
  },
  {
   "cell_type": "code",
   "execution_count": null,
   "id": "9e8980e5",
   "metadata": {},
   "outputs": [],
   "source": [
    "#data.to_excel(\"Project Gutenberg Texts.xlsx\", header=True)"
   ]
  },
  {
   "cell_type": "code",
   "execution_count": null,
   "id": "8c167143",
   "metadata": {},
   "outputs": [],
   "source": [
    "philo = pd.read_csv('1000-word-philosophy.csv')\n",
    "print(philo.info())\n",
    "philo.drop(['Unnamed: 0'], axis=1, inplace=True)\n",
    "philo.dropna(subset=['Text'], inplace=True)\n",
    "philo.reset_index(drop=True, inplace=True)\n",
    "print(philo.info())\n",
    "philo.head(5)"
   ]
  },
  {
   "cell_type": "code",
   "execution_count": null,
   "id": "5aa8a38c",
   "metadata": {},
   "outputs": [],
   "source": [
    "import re\n",
    "for i in range(0, 6):\n",
    "    #print(philo['Text'][i][:600])\n",
    "    sub, aut = len('Submissions '), len('An Introductory Anthology Author:')\n",
    "    sub0, aut0 = philo['Text'][i].find('Submissions '), philo['Text'][i].find('An Introductory Anthology Author:')\n",
    "    beg, beg0 = sub0+sub+1, aut0+aut+1\n",
    "    end, end0 = philo['Text'][i].find('~ 1000 Word Philosophy'), philo['Text'][i].find('Cate')\n",
    "    if beg != -1 and end != -1 and beg0 != 0 and end0 !=0:\n",
    "        s = philo['Text'][i][beg:end]\n",
    "        print(\"\\t\", s)\n",
    "        m = re.search(r\"\\d\", s)\n",
    "        # Title\n",
    "        print(s[:m.start()])\n",
    "        # Date\n",
    "        print(s[m.start():])\n",
    "        # Author\n",
    "        print(philo['Text'][i][beg0:end0])"
   ]
  },
  {
   "cell_type": "code",
   "execution_count": null,
   "id": "3811c15f",
   "metadata": {},
   "outputs": [],
   "source": [
    "# Sep\n",
    "# 'Words:', 'Word count:', ')'\n",
    "for i in range(0, 4):\n",
    "    print(\"\\t\")\n",
    "    print(philo['Text'][i][:1100])"
   ]
  },
  {
   "cell_type": "code",
   "execution_count": null,
   "id": "41ec7364",
   "metadata": {},
   "outputs": [],
   "source": [
    "# Sep\n",
    "# 'Words:', 'Word count:', ')'\n",
    "for i in range(46, 49):\n",
    "    print(\"\\t\")\n",
    "    print(philo['Text'][i][:1100])"
   ]
  }
 ],
 "metadata": {
  "kernelspec": {
   "display_name": "Python 3 (Spyder)",
   "language": "python3",
   "name": "python3"
  },
  "language_info": {
   "codemirror_mode": {
    "name": "ipython",
    "version": 3
   },
   "file_extension": ".py",
   "mimetype": "text/x-python",
   "name": "python",
   "nbconvert_exporter": "python",
   "pygments_lexer": "ipython3",
   "version": "3.7.11"
  }
 },
 "nbformat": 4,
 "nbformat_minor": 5
}
