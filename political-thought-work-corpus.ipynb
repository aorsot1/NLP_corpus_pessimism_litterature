{
 "cells": [
  {
   "cell_type": "markdown",
   "id": "1def739d",
   "metadata": {
    "papermill": {
     "duration": 0.013591,
     "end_time": "2021-07-09T03:45:36.270504",
     "exception": false,
     "start_time": "2021-07-09T03:45:36.256913",
     "status": "completed"
    },
    "tags": []
   },
   "source": [
    "# Importing the necessary Libraries"
   ]
  },
  {
   "cell_type": "code",
   "execution_count": 1,
   "id": "3ecd972a",
   "metadata": {
    "_cell_guid": "758cd899-bfd5-4be6-a65a-666bcf8f7a63",
    "_uuid": "d2302def-fe6a-4a69-9656-1cddb7559487",
    "execution": {
     "iopub.execute_input": "2021-07-09T03:45:36.301300Z",
     "iopub.status.busy": "2021-07-09T03:45:36.300064Z",
     "iopub.status.idle": "2021-07-09T03:45:38.198772Z",
     "shell.execute_reply": "2021-07-09T03:45:38.198028Z",
     "shell.execute_reply.started": "2021-07-06T14:02:28.135434Z"
    },
    "jupyter": {
     "outputs_hidden": false
    },
    "papermill": {
     "duration": 1.915075,
     "end_time": "2021-07-09T03:45:38.198946",
     "exception": false,
     "start_time": "2021-07-09T03:45:36.283871",
     "status": "completed"
    },
    "tags": []
   },
   "outputs": [
    {
     "name": "stderr",
     "output_type": "stream",
     "text": [
      "[nltk_data] Downloading package stopwords to C:\\Users\\Akoua\n",
      "[nltk_data]     Orsot\\AppData\\Roaming\\nltk_data...\n",
      "[nltk_data]   Package stopwords is already up-to-date!\n"
     ]
    }
   ],
   "source": [
    "import numpy as np\n",
    "import pandas as pd\n",
    "\n",
    "import math\n",
    "import os\n",
    "import re\n",
    "import string\n",
    "import random\n",
    "import urllib3.request\n",
    "import zipfile\n",
    "import requests\n",
    "\n",
    "import nltk\n",
    "nltk.download('stopwords')\n",
    "from nltk.corpus import stopwords\n",
    "from nltk.tokenize import RegexpTokenizer\n",
    "import matplotlib.pyplot as plt\n",
    "\n",
    "import warnings\n",
    "warnings.filterwarnings(\"ignore\")"
   ]
  },
  {
   "cell_type": "markdown",
   "id": "f8e3ae0c",
   "metadata": {
    "papermill": {
     "duration": 0.012753,
     "end_time": "2021-07-09T03:45:38.225152",
     "exception": false,
     "start_time": "2021-07-09T03:45:38.212399",
     "status": "completed"
    },
    "tags": []
   },
   "source": [
    "# Web Scrapping the texts from Project Gutenberg"
   ]
  },
  {
   "cell_type": "code",
   "execution_count": 2,
   "id": "e24ac417",
   "metadata": {
    "execution": {
     "iopub.execute_input": "2021-07-09T03:45:38.256796Z",
     "iopub.status.busy": "2021-07-09T03:45:38.256119Z",
     "iopub.status.idle": "2021-07-09T03:45:39.172472Z",
     "shell.execute_reply": "2021-07-09T03:45:39.171878Z",
     "shell.execute_reply.started": "2021-07-06T14:02:30.049518Z"
    },
    "papermill": {
     "duration": 0.934464,
     "end_time": "2021-07-09T03:45:39.172623",
     "exception": false,
     "start_time": "2021-07-09T03:45:38.238159",
     "status": "completed"
    },
    "tags": []
   },
   "outputs": [],
   "source": [
    "# Plato - Republic\n",
    "rep = requests.get('https://www.gutenberg.org/cache/epub/150/pg150.txt')\n",
    "beg = rep.text.find('BOOK I')\n",
    "end = rep.text.find('End of the Project Gutenberg EBook')\n",
    "book1 = rep.text[beg:end]"
   ]
  },
  {
   "cell_type": "code",
   "execution_count": 3,
   "id": "b6d3aa4b",
   "metadata": {
    "execution": {
     "iopub.execute_input": "2021-07-09T03:45:39.210139Z",
     "iopub.status.busy": "2021-07-09T03:45:39.209373Z",
     "iopub.status.idle": "2021-07-09T03:45:40.047103Z",
     "shell.execute_reply": "2021-07-09T03:45:40.046410Z"
    },
    "papermill": {
     "duration": 0.860813,
     "end_time": "2021-07-09T03:45:40.047307",
     "exception": false,
     "start_time": "2021-07-09T03:45:39.186494",
     "status": "completed"
    },
    "tags": []
   },
   "outputs": [],
   "source": [
    "# Machiavelli - The Prince\n",
    "prc = requests.get('https://www.gutenberg.org/files/1232/1232-0.txt')\n",
    "beg = prc.text.find('DEDICATION\\r\\n\\r\\n\\r\\nTo the Magnificent')\n",
    "end = prc.text.find('*** END OF THE PROJECT GUTENBERG')\n",
    "book2 = prc.text[beg:end]"
   ]
  },
  {
   "cell_type": "code",
   "execution_count": 4,
   "id": "43ede224",
   "metadata": {
    "execution": {
     "iopub.execute_input": "2021-07-09T03:45:40.081287Z",
     "iopub.status.busy": "2021-07-09T03:45:40.080592Z",
     "iopub.status.idle": "2021-07-09T03:45:41.128768Z",
     "shell.execute_reply": "2021-07-09T03:45:41.129719Z"
    },
    "papermill": {
     "duration": 1.069097,
     "end_time": "2021-07-09T03:45:41.129891",
     "exception": false,
     "start_time": "2021-07-09T03:45:40.060794",
     "status": "completed"
    },
    "tags": []
   },
   "outputs": [],
   "source": [
    "# Hobbes - The Leviathan\n",
    "lvt = requests.get('https://www.gutenberg.org/files/3207/3207-0.txt')\n",
    "beg = lvt.text.find('Nature (the art whereby God hath made and governes the world)')\n",
    "end = lvt.text.find('FINIS')\n",
    "book3 = lvt.text[beg:end]"
   ]
  },
  {
   "cell_type": "code",
   "execution_count": 5,
   "id": "788a4ee7",
   "metadata": {
    "execution": {
     "iopub.execute_input": "2021-07-09T03:45:41.164346Z",
     "iopub.status.busy": "2021-07-09T03:45:41.163685Z",
     "iopub.status.idle": "2021-07-09T03:45:41.847420Z",
     "shell.execute_reply": "2021-07-09T03:45:41.846849Z"
    },
    "papermill": {
     "duration": 0.704228,
     "end_time": "2021-07-09T03:45:41.847555",
     "exception": false,
     "start_time": "2021-07-09T03:45:41.143327",
     "status": "completed"
    },
    "tags": []
   },
   "outputs": [],
   "source": [
    "# Locke - 2nd Treatise\n",
    "second = requests.get('https://www.gutenberg.org/cache/epub/7370/pg7370.txt')\n",
    "beg = second.text.find('PREFACE')\n",
    "end = second.text.find('FINIS.')\n",
    "book4 = second.text[beg:end]"
   ]
  },
  {
   "cell_type": "code",
   "execution_count": 6,
   "id": "0985c310",
   "metadata": {
    "execution": {
     "iopub.execute_input": "2021-07-09T03:45:41.882083Z",
     "iopub.status.busy": "2021-07-09T03:45:41.881359Z",
     "iopub.status.idle": "2021-07-09T03:45:42.377552Z",
     "shell.execute_reply": "2021-07-09T03:45:42.376912Z"
    },
    "papermill": {
     "duration": 0.516354,
     "end_time": "2021-07-09T03:45:42.377692",
     "exception": false,
     "start_time": "2021-07-09T03:45:41.861338",
     "status": "completed"
    },
    "tags": []
   },
   "outputs": [],
   "source": [
    "# Lao - Tao\n",
    "tao = requests.get('https://www.gutenberg.org/cache/epub/216/pg216.txt')\n",
    "beg = tao.text.find('PART 1.')\n",
    "end = tao.text.find('End of the Project Gutenberg EBook')\n",
    "book5 = tao.text[beg:end]"
   ]
  },
  {
   "cell_type": "code",
   "execution_count": 7,
   "id": "9d371863",
   "metadata": {
    "execution": {
     "iopub.execute_input": "2021-07-09T03:45:42.408541Z",
     "iopub.status.busy": "2021-07-09T03:45:42.407892Z",
     "iopub.status.idle": "2021-07-09T03:45:43.354771Z",
     "shell.execute_reply": "2021-07-09T03:45:43.353498Z"
    },
    "papermill": {
     "duration": 0.963324,
     "end_time": "2021-07-09T03:45:43.354923",
     "exception": false,
     "start_time": "2021-07-09T03:45:42.391599",
     "status": "completed"
    },
    "tags": []
   },
   "outputs": [],
   "source": [
    "# Rousseau - Contract\n",
    "soc = requests.get('https://www.gutenberg.org/files/46333/46333-0.txt')\n",
    "beg = soc.text.find('This little treatise')\n",
    "end = soc.text.find('***END OF THE PROJECT GUTENBERG EBOOK')\n",
    "book6 = soc.text[beg:end]"
   ]
  },
  {
   "cell_type": "code",
   "execution_count": 8,
   "id": "ba21b524",
   "metadata": {},
   "outputs": [],
   "source": [
    "# Rousseau - Contract\n",
    "soc = requests.get('https://www.gutenberg.org/files/46333/46333-0.txt')\n",
    "beg = soc.text.find('This little treatise')\n",
    "end = soc.text.find('***END OF THE PROJECT GUTENBERG EBOOK')\n",
    "book6 = soc.text[beg:end]"
   ]
  },
  {
   "cell_type": "code",
   "execution_count": 9,
   "id": "37e65eca",
   "metadata": {
    "execution": {
     "iopub.execute_input": "2021-07-09T03:45:43.386817Z",
     "iopub.status.busy": "2021-07-09T03:45:43.386175Z",
     "iopub.status.idle": "2021-07-09T03:45:43.388839Z",
     "shell.execute_reply": "2021-07-09T03:45:43.388242Z"
    },
    "papermill": {
     "duration": 0.020219,
     "end_time": "2021-07-09T03:45:43.388987",
     "exception": false,
     "start_time": "2021-07-09T03:45:43.368768",
     "status": "completed"
    },
    "tags": []
   },
   "outputs": [],
   "source": [
    "# Burke - Thoughts on the Present Discontents\n",
    "tpd = requests.get('https://www.gutenberg.org/cache/epub/2173/pg2173.txt')\n",
    "beg = tpd.text.find('It is an undertaking of some degree of delicacy')\n",
    "end = tpd.text.find('***END OF THE PROJECT GUTENBERG EBOOK')\n",
    "book7 = tpd.text[beg:end]"
   ]
  },
  {
   "cell_type": "code",
   "execution_count": 10,
   "id": "c69f1ddc",
   "metadata": {},
   "outputs": [],
   "source": [
    "# Du Bois - Souls of Black Folk\n",
    "sbf = requests.get('https://www.gutenberg.org/files/408/408-0.txt')\n",
    "beg = sbf.text.find('Herein lie buried many things')\n",
    "end = sbf.text.find('*** END OF THE PROJECT GUTENBERG EBOOK')\n",
    "book8 = sbf.text[beg:end]"
   ]
  },
  {
   "cell_type": "code",
   "execution_count": 11,
   "id": "c518bae9",
   "metadata": {},
   "outputs": [],
   "source": [
    "# Marx - Communist Manifesto\n",
    "cmf = requests.get('https://www.gutenberg.org/cache/epub/61/pg61.txt')\n",
    "beg = cmf.text.find('A spectre is haunting Europe')\n",
    "end = cmf.text.find('End of the Project Gutenberg')\n",
    "book9 = cmf.text[beg:end]"
   ]
  },
  {
   "cell_type": "code",
   "execution_count": 12,
   "id": "5dc7d464",
   "metadata": {},
   "outputs": [],
   "source": [
    "# Bakunin - God State\n",
    "gdst = requests.get('https://www.gutenberg.org/cache/epub/36568/pg36568.txt')\n",
    "beg = gdst.text.find('Who are right, the idealists or the materialists?')\n",
    "end = gdst.text.find('THE ONLY ANARCHIST MONTHLY')\n",
    "book10 = gdst.text[beg:end]"
   ]
  },
  {
   "cell_type": "code",
   "execution_count": 13,
   "id": "5b5e97f8",
   "metadata": {},
   "outputs": [],
   "source": [
    "# Proudhon - Property\n",
    "prop = requests.get('https://www.gutenberg.org/cache/epub/360/pg360.txt')\n",
    "beg = prop.text.find('The following letter served as a preface')\n",
    "end = prop.text.find('End of the Project Gutenberg EBook')\n",
    "book11 = prop.text[beg:end]"
   ]
  },
  {
   "cell_type": "code",
   "execution_count": 14,
   "id": "2743ad76",
   "metadata": {},
   "outputs": [],
   "source": [
    "# Kropotkin - The Conquest of Bread\n",
    "krop = requests.get('https://www.gutenberg.org/cache/epub/23428/pg23428.txt')\n",
    "beg = krop.text.find('One of the current objections to Communism, and')\n",
    "end = krop.text.find('End of Project Gutenberg')\n",
    "book12 = krop.text[beg:end]"
   ]
  },
  {
   "cell_type": "code",
   "execution_count": 15,
   "id": "97238949",
   "metadata": {},
   "outputs": [],
   "source": [
    "# Goldman - Anarchism and Other Essays\n",
    "gold = requests.get('https://www.gutenberg.org/cache/epub/2162/pg2162.txt')\n",
    "beg = gold.text.find('Some twenty-one years ago I heard the first great Anarchist')\n",
    "end = gold.text.find('End of Project Gutenberg')\n",
    "book13 = gold.text[beg:end]"
   ]
  },
  {
   "cell_type": "code",
   "execution_count": 16,
   "id": "d26dd829",
   "metadata": {},
   "outputs": [],
   "source": [
    "# Smith - Wealth\n",
    "swt = requests.get('https://www.gutenberg.org/cache/epub/38194/pg38194.txt')\n",
    "beg = swt.text.find('The annual labour of every nation is the fund which originally supplies')\n",
    "end = swt.text.find('STEREOTYPED.')\n",
    "book14 = swt.text[beg:end]"
   ]
  },
  {
   "cell_type": "markdown",
   "id": "c611f2d8",
   "metadata": {
    "papermill": {
     "duration": 0.014282,
     "end_time": "2021-07-09T03:45:43.417856",
     "exception": false,
     "start_time": "2021-07-09T03:45:43.403574",
     "status": "completed"
    },
    "tags": []
   },
   "source": [
    "# Creating the lists with the necessary information to tabulate"
   ]
  },
  {
   "cell_type": "code",
   "execution_count": 17,
   "id": "821cc26e",
   "metadata": {
    "execution": {
     "iopub.execute_input": "2021-07-09T03:45:43.452751Z",
     "iopub.status.busy": "2021-07-09T03:45:43.452003Z",
     "iopub.status.idle": "2021-07-09T03:45:43.453464Z",
     "shell.execute_reply": "2021-07-09T03:45:43.454047Z",
     "shell.execute_reply.started": "2021-07-06T14:02:35.632165Z"
    },
    "papermill": {
     "duration": 0.022037,
     "end_time": "2021-07-09T03:45:43.454211",
     "exception": false,
     "start_time": "2021-07-09T03:45:43.432174",
     "status": "completed"
    },
    "tags": []
   },
   "outputs": [],
   "source": [
    "titles = ['The Republic', 'The Prince', 'The Leviathan', \n",
    "          'Second Treatise of Government', 'Tao Te Ching', \n",
    "          'The Social Contract', 'Thoughts on the Present Discontents',\n",
    "         'The Souls of Black Folk', 'The Communist Manifesto', \n",
    "          'God and the State', 'What is Property? An Inquiry into the Principle of Right and of Government',\n",
    "         'The Conquest of Bread', 'Anarchism and Other Essays',\n",
    "         'An Inquiry Into the Nature and Causes of the Wealth of Nations']\n",
    "\n",
    "authors = ['Plato', 'Niccolò Machiavelli', 'Thomas Hobbes', \n",
    "           'John Locke', 'Lao Tzu', 'Jean-Jacques Rousseau',\n",
    "          'Edmund Burke', 'W. E. B. Du Bois', ['Karl Marx','Friedrich Engels'],\n",
    "          'Mikhail Aleksandrovich Bakunin', 'P. J. Proudhon', 'Peter Kropotkin',\n",
    "          'Emma Goldman', 'Adam Smith']\n",
    "\n",
    "publish_dates = [-375, 1532, 1651, 1689, \n",
    "                 -400, 1762, 1770, 1903,\n",
    "                 1848, 1882, 1840, 1892, \n",
    "                 1910, 1776]\n",
    "\n",
    "texts = [book1,book2,book3, book4, \n",
    "         book5,book6, book7, book8, \n",
    "         book9, book10, book11, book12,\n",
    "         book13, book14]"
   ]
  },
  {
   "cell_type": "markdown",
   "id": "6d0a6aa1",
   "metadata": {
    "papermill": {
     "duration": 0.013431,
     "end_time": "2021-07-09T03:45:43.481862",
     "exception": false,
     "start_time": "2021-07-09T03:45:43.468431",
     "status": "completed"
    },
    "tags": []
   },
   "source": [
    "# Utility Functions"
   ]
  },
  {
   "cell_type": "code",
   "execution_count": 18,
   "id": "607dbebe",
   "metadata": {
    "execution": {
     "iopub.execute_input": "2021-07-09T03:45:43.512267Z",
     "iopub.status.busy": "2021-07-09T03:45:43.511637Z",
     "iopub.status.idle": "2021-07-09T03:45:43.518852Z",
     "shell.execute_reply": "2021-07-09T03:45:43.519419Z",
     "shell.execute_reply.started": "2021-07-06T14:02:35.640345Z"
    },
    "papermill": {
     "duration": 0.023983,
     "end_time": "2021-07-09T03:45:43.519588",
     "exception": false,
     "start_time": "2021-07-09T03:45:43.495605",
     "status": "completed"
    },
    "tags": []
   },
   "outputs": [],
   "source": [
    "#Utitlity functions for removing ASCII characters, converting lower case, removing stop words, html and punctuation from description\n",
    "def _removeNonAscii(s):\n",
    "    return \"\".join(i for i in s if  ord(i)<128)\n",
    "\n",
    "def make_lower_case(text):\n",
    "    return text.lower()\n",
    "\n",
    "def remove_stop_words(text):\n",
    "    text = text.split()\n",
    "    stops = set(stopwords.words(\"english\"))\n",
    "    text = [w for w in text if not w in stops]\n",
    "    text = \" \".join(text)\n",
    "    return text\n",
    "\n",
    "def remove_html(text):\n",
    "    html_pattern = re.compile('<.*?>')\n",
    "    return html_pattern.sub(r'', text)\n",
    "\n",
    "def remove_punctuation(text):\n",
    "    tokenizer = RegexpTokenizer(r'\\w+')\n",
    "    text = tokenizer.tokenize(text)\n",
    "    text = \" \".join(text)\n",
    "    return text"
   ]
  },
  {
   "cell_type": "markdown",
   "id": "331b53e6",
   "metadata": {
    "papermill": {
     "duration": 0.013498,
     "end_time": "2021-07-09T03:45:43.546970",
     "exception": false,
     "start_time": "2021-07-09T03:45:43.533472",
     "status": "completed"
    },
    "tags": []
   },
   "source": [
    "# Creating a dataframe"
   ]
  },
  {
   "cell_type": "code",
   "execution_count": 19,
   "id": "674c7f95",
   "metadata": {
    "execution": {
     "iopub.execute_input": "2021-07-09T03:45:43.577597Z",
     "iopub.status.busy": "2021-07-09T03:45:43.576915Z",
     "iopub.status.idle": "2021-07-09T03:45:44.323652Z",
     "shell.execute_reply": "2021-07-09T03:45:44.323050Z",
     "shell.execute_reply.started": "2021-07-06T14:02:35.656204Z"
    },
    "papermill": {
     "duration": 0.763037,
     "end_time": "2021-07-09T03:45:44.323794",
     "exception": false,
     "start_time": "2021-07-09T03:45:43.560757",
     "status": "completed"
    },
    "tags": []
   },
   "outputs": [],
   "source": [
    "books_dict = {'book_title': titles,\n",
    "              'publishing_date': publish_dates,\n",
    "              'authors': authors,\n",
    "              'text': texts}\n",
    "df = pd.DataFrame.from_dict(data=books_dict, orient='columns')\n",
    "df['text_clean'] = df['text'].astype(str)\n",
    "df['text_clean'] = df['text_clean'].apply(_removeNonAscii)\n",
    "df['text_clean'] = df['text_clean'].apply(func = make_lower_case)\n",
    "df['text_clean'] = df['text_clean'].apply(func = remove_stop_words)\n",
    "df['text_clean'] = df['text_clean'].apply(func=remove_punctuation)\n",
    "df['text_clean'] = df['text_clean'].apply(func=remove_html)"
   ]
  },
  {
   "cell_type": "markdown",
   "id": "7f9d97db",
   "metadata": {
    "papermill": {
     "duration": 0.013698,
     "end_time": "2021-07-09T03:45:44.351508",
     "exception": false,
     "start_time": "2021-07-09T03:45:44.337810",
     "status": "completed"
    },
    "tags": []
   },
   "source": [
    "# Saving to csv file"
   ]
  },
  {
   "cell_type": "code",
   "execution_count": 20,
   "id": "6e0761bf",
   "metadata": {
    "execution": {
     "iopub.execute_input": "2021-07-09T03:45:44.384566Z",
     "iopub.status.busy": "2021-07-09T03:45:44.383893Z",
     "iopub.status.idle": "2021-07-09T03:45:44.594296Z",
     "shell.execute_reply": "2021-07-09T03:45:44.594781Z",
     "shell.execute_reply.started": "2021-07-06T14:02:36.609790Z"
    },
    "papermill": {
     "duration": 0.229539,
     "end_time": "2021-07-09T03:45:44.595001",
     "exception": false,
     "start_time": "2021-07-09T03:45:44.365462",
     "status": "completed"
    },
    "tags": []
   },
   "outputs": [],
   "source": [
    "df.to_csv('political_thought_works_corpus.csv', header=True)"
   ]
  }
 ],
 "metadata": {
  "kernelspec": {
   "display_name": "Python 3",
   "language": "python",
   "name": "python3"
  },
  "language_info": {
   "codemirror_mode": {
    "name": "ipython",
    "version": 3
   },
   "file_extension": ".py",
   "mimetype": "text/x-python",
   "name": "python",
   "nbconvert_exporter": "python",
   "pygments_lexer": "ipython3",
   "version": "3.7.10"
  },
  "papermill": {
   "default_parameters": {},
   "duration": 17.67928,
   "end_time": "2021-07-09T03:45:45.419680",
   "environment_variables": {},
   "exception": null,
   "input_path": "__notebook__.ipynb",
   "output_path": "__notebook__.ipynb",
   "parameters": {},
   "start_time": "2021-07-09T03:45:27.740400",
   "version": "2.3.3"
  }
 },
 "nbformat": 4,
 "nbformat_minor": 5
}
